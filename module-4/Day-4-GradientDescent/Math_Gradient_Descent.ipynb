{
 "cells": [
  {
   "cell_type": "markdown",
   "metadata": {},
   "source": [
    "# Linear Algebra, Calculus, and Gradient Descent\n",
    "\n",
    "__Objectives__\n",
    "* Use operations with vectors and matrices to solve systems of linear equations\n",
    "* Identify and describe of scalars, vectors,  matrices, using appropriate mathematical jargon\n",
    "* Set up and solve systems of linear equations with real life examples\n",
    "* Describe gradient descent in relation to slope, derivatives, and step size\n",
    "\n",
    "\n",
    "## Why Linear Algebra?\n",
    "\n",
    "Linear Algebra is the basis of many machine learning models.\n",
    "\n",
    "Data is usually already set up into a matrix by default!\n",
    "\n",
    "<img src= \"./resources/dataset.jpeg\">\n"
   ]
  },
  {
   "cell_type": "markdown",
   "metadata": {},
   "source": [
    "\n",
    "It can be used to model complicated things like language\n",
    "\n",
    "<img src = \"./resources/Word-Vectors.png\">"
   ]
  },
  {
   "cell_type": "markdown",
   "metadata": {},
   "source": [
    "Important for image compression and recognition\n",
    "\n",
    "<img src = \"./resources/images.gif\">"
   ]
  },
  {
   "cell_type": "markdown",
   "metadata": {},
   "source": [
    "Also matrices are the common notation used in the popular libraries like numpy, scipy and sklearn.\n",
    "\n",
    "<img src = \"./resources/matrix_multiplication.png\">\n",
    "\n",
    "\n",
    "-- they are using w because it corresponds to the weight of the coeefficient \n",
    "\n"
   ]
  },
  {
   "cell_type": "markdown",
   "metadata": {},
   "source": [
    "This is an image from Andrew Ng's Neural Networks and Deep Learning course.\n",
    "\n",
    "<img src = \"./resources/gradient_descent.png\" width  = 500>"
   ]
  },
  {
   "cell_type": "markdown",
   "metadata": {},
   "source": [
    "This is an image from Andrew Ng's Sequence Model's Course. \n",
    "\n",
    "<img src = \"./resources/lstm.png\" width  = 500>"
   ]
  },
  {
   "cell_type": "markdown",
   "metadata": {},
   "source": [
    "## Linear algebra and Linear Regression\n",
    "\n",
    "- Let's move to the notebook matrix algebra with numpy :)"
   ]
  },
  {
   "cell_type": "markdown",
   "metadata": {},
   "source": [
    "## Gradient Descent"
   ]
  },
  {
   "cell_type": "markdown",
   "metadata": {},
   "source": [
    "[Gradient slide](https://www.youtube.com/watch?v=vWFjqgb-ylQ)\n",
    "\n",
    "\n",
    "\n",
    "-- if you have 2 dimensional data, you need 3D to graph it. You will have 2 categories and your target. \n",
    "\n",
    "\n",
    "-- xnew = xold - (alpha(percentage size step to take aka learning rate) * the gradient) \n",
    "\n",
    "-- you are taking the inverse because the direction will follow the gradient, so you need to take the inverse of that in order to follow gradient descent\n"
   ]
  },
  {
   "cell_type": "markdown",
   "metadata": {},
   "source": [
    "## Gradient in Action"
   ]
  },
  {
   "cell_type": "code",
   "execution_count": 8,
   "metadata": {},
   "outputs": [],
   "source": [
    "import pandas as pd\n",
    "import numpy as np\n",
    "from matplotlib import pyplot as plt\n",
    "import random\n",
    "import seaborn as sns"
   ]
  },
  {
   "cell_type": "code",
   "execution_count": 9,
   "metadata": {},
   "outputs": [
    {
     "data": {
      "text/plain": [
       "array([0., 0., 0., 0., 0., 0., 0., 0., 0., 0.])"
      ]
     },
     "execution_count": 9,
     "metadata": {},
     "output_type": "execute_result"
    }
   ],
   "source": [
    "numPoints=10\n",
    "np.zeros(shape=numPoints)"
   ]
  },
  {
   "cell_type": "code",
   "execution_count": 10,
   "metadata": {},
   "outputs": [],
   "source": [
    "def genData(numPoints, bias, variance):\n",
    "    x = np.zeros(shape=(numPoints, 2))\n",
    "    y = np.zeros(shape=numPoints)\n",
    "    # basically a straight line\n",
    "    for i in range(0, numPoints):\n",
    "        # bias feature\n",
    "        x[i][0] = 1\n",
    "        x[i][1] = i\n",
    "        # our target variable\n",
    "        y[i] = (i + bias) + np.random.uniform(0, 1) * variance\n",
    "    return x, y"
   ]
  },
  {
   "cell_type": "code",
   "execution_count": 11,
   "metadata": {},
   "outputs": [],
   "source": [
    "x = np.random.uniform(low =0, high=1, size = 1000)\n",
    "\n",
    "y = 10*x + 25 + np.random.normal(loc = 0, scale = 1, size = 1000)"
   ]
  },
  {
   "cell_type": "code",
   "execution_count": 12,
   "metadata": {},
   "outputs": [],
   "source": [
    "# gen 100 points with a bias of 25 and 10 variance as a bit of noise\n",
    "x, y = genData(100, 25, 25)\n",
    "m, n = np.shape(x)"
   ]
  },
  {
   "cell_type": "code",
   "execution_count": 13,
   "metadata": {},
   "outputs": [
    {
     "data": {
<<<<<<< HEAD
      "image/png": "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\n",
=======
      "image/png": "iVBORw0KGgoAAAANSUhEUgAAAXcAAAD4CAYAAAAXUaZHAAAABHNCSVQICAgIfAhkiAAAAAlwSFlzAAALEgAACxIB0t1+/AAAADh0RVh0U29mdHdhcmUAbWF0cGxvdGxpYiB2ZXJzaW9uMy4xLjAsIGh0dHA6Ly9tYXRwbG90bGliLm9yZy+17YcXAAAeg0lEQVR4nO3dfZBc5XXn8e/RSCMaSWZkGAHRSBGmVIq1FLFg1sZoywsmxsJmLWOTtUMWFBajUNiLN7U2stfLZrfIHxGwsZNKBAhsA0l4cYQJFJvCdhGpvCUbhZFlEyxQeLGDRuhlDDPyIA0ajebsH317uBr17b7d995+uf37VKlm+nZP93Pd+PTT557nPObuiIhIvsxo9gBERCR9Cu4iIjmk4C4ikkMK7iIiOaTgLiKSQzObPQCA0047zZcsWdLsYYiItJXt27f/yt17y93XEsF9yZIlDAwMNHsYIiJtxcz+Neo+pWVERHJIwV1EJIcU3EVEckjBXUQkhxTcRURyqCWqZURE2s3kpPPGoXHGJ47RPbOLU+d0M2OGNXtYUxTcRURqNDnp7No/yvUPDDA4PEbf/AL3XNPPstPntUyAr5qWMbNvmdkBM3u+zH1fMjM3s9OC22Zmf2FmL5vZc2Z2XhaDFhFppjcOjU8FdoDB4TGuf2CANw6NN3lk74iTc78PWDX9oJktAj4CvBY6fBmwNPi3Frgz+RBFRFrL+MSxqcBeMjg8xvjEsSaN6ERVg7u7/xB4s8xdXwduBsK7fawGHvCiZ4AeMzszlZGKiDTB5KQzNHqEPcOHGRo9wuSk0z2zi775hanHrFjUw7f/4N9yzH3qMXGfKyt15dzN7BPAHnf/mdlx+aWFwO7Q7cHg2N4yz7GW4uyexYsX1zMMEZFMReXWl/bO5Z5r+rn+gQF6587m5lXL+PKm5yrm3xudp6+5FNLMTga+BvzPcneXOVb2o8ndN7p7v7v39/aW7XsjItJUUbn14bGjLDt9Ho/duJK/vGrFVGAPP2Z6/r3Refp66tzPBs4CfmZmvwT6gJ+Y2RkUZ+qLQo/tA15POkgRkWaolFufMcPonTd76li5x8R9rizUHNzd/Z/dfYG7L3H3JRQD+nnuvg94ArgmqJq5ADjo7iekZERE2sH03DpA3/wC3TO7anpMLY9LS5xSyIeAHwPLzGzQzK6r8PB/AF4FXgbuAW5MZZQiIk1w6pxu7rmmfyool/Lkp87prukxtTwuLeae3dXauPr7+1393EWkFcVZiRp3tWraq1rNbLu795e7TytURUQqCOfWkzymlselQcFdRITW7xVTKwV3Eel47dArplZq+SsiHa8desXUSsFdRDpeO/SKqZWCu4h0vEbXoDeCgruIdLxG16A3gi6oikhHiaqKKfWKUbWMiEibqVYV06ga9NJYsiy9VFpGRDpGq1TFlD5krtiwlZXrN3PFhq3s2j+aan93BXcR6RjNqIopt0FHIz5klJYRkY5RqooJB/gsq2Ki0kDvOmlm5h8ymrmLSMdodFVM1AzdzDIvvdTMXUQ6RqOrYqLSQF3G1DZ94Rl9mh8yCu4i0lEaWRUTlQaaMWNG5h8ySsuIiGSkUhqo9CGzcP7J9M6bnfq3B83cRUQy0szFUQruIiIZavTiqKnXbfgriohI5hTcRURySGkZEUksb1vURWmn81RwF5FE8rhFXTntdp5Ky4hIIq3SjCtr7XaemrmLSCJ53KKunFrOsxXSNwruIpJIo5txNUvc82yV9I3SMiKSSDtsUVeu7W6t4p5nq6Rvqs7czexbwOXAAXc/Jzh2O/AfgHHgFeBadx8J7vsqcB1wDLjJ3b+X0dhFpAXUswqzkWmLtGbScc+zVdJUcWbu9wGrph37AXCOu58L/AvwVQAzWw58Fvg3wd9sMLN8fTcTkRPU0ielEbsQhaU5k45znqX0TVgz0lRVg7u7/xB4c9qx77v7RHDzGaAv+H018LC7H3H3XwAvA+9Pcbwi0kaS7EKURioFGj+TbpU0VRoXVP8z8Ejw+0KKwb5kMDh2AjNbC6wFWLx4cQrDEJFWkmQXojQvSjb6gm8zm4UdN44kf2xmXwMmgL8tHSrzsLIft+6+0d373b2/t7c3yTBEJGVRs+ZaZtNJdiFKM5XSjJl01u1846h75m5mayheaL3E3Uvv8CCwKPSwPuD1+ocnIo0WNWte2juXl4beij2bTrILUZqplFaZSTdaXcHdzFYB64B/7+6HQ3c9ATxoZn8G/AawFPinxKMUkYaZPmvunTubfQffZt5JM8vOph+7cWXZlrZJdiGa/rcrFvVw0yVLOebFbw61BueotrutsNgoK1XTMmb2EPBjYJmZDZrZdcBfAvOAH5jZT83sLgB3/znwHWAn8BTweXfP1zI1kZwLz5pXLOrhSx9dxi2PP8+e4bGaZtNJdiEK/+2KRT3cvKo4hg/dtiW16ppKVTtpXcxtJnsno9I8/f39PjAw0OxhiAgwNHqEKzZsZXB4jLuvPp9bn9x5wu8lffMLkTN3SDYzDv/tZzY+U9Pr1nqe4ed94gsr2f/rI01fYRqHmW139/5y92mFqkgOJZl5hmfNPYVZU8Hvri2vsP7T59Z0YTLJhcVwKiWLUsaovP7Y+LGWWGGalHrLiORM0jLC6RcgS7nvHbtHuON7u7h19TmcvWAuhVmNyVFXK2Ws99tB1PMec2+JFaZJaeYukjNplBGWZs1nnlI4Lm8+9NYRzjjlJPp6Cg0r8auUu0+y2jXqeU+a1RorTJNSzl0kZ/YMH2bl+s0nHN+67mIWzj+55udrhYqS6WOYX5jF8NjRxPn4cucGtERXxzgq5dyVlhHJmbRXZEaVETZSeAzhtNP/+d3fjkyhxPlQijq3PNTFKy0jkjOt0tskK+G008jY0bIplEJ3V6LmZK2wwjQpzdxFcqZVV2Smld4JV7mUKnjWPfrccSmUiUmvacFVHim4i+RQK6RSwrJqBBZVwbP3YG0LrvJIaRkRyVyWjcDCFTynzumees48VLwkoZm7iGQubiOwuBdBy6Wd4J0ql965s7n9ynP58qbj0zV5ue4Qh4K7iKSqXICOU8FTS+qmXNppaPSdlgGDw2Pc9lTjF1y1EqVlRCQ1UYuK5hdmVa3gSZq6mf7tYMfuEa6971m6jLateElCM3cRSU1UgH7sxpVVK3iS9nBv9I5LrU4zdxFJTaUAXa12POnG0nmv76+VZu4ikpoks+dScK60Q1MlrVrf3yzqLSMiQDqLjJLWs7dCH5t2ot4yIlJRWouMks6eW23xVTtTzl2kzWSxBVyai4zy0JclDzRzF2kjaS7jD0taqSKtRzN3kQylPctOc4YdHpuZNW25fh42o25FmrmLZCSLWXY9M+w4G1JcunwBd/2n87nhb7bHrlRphQuwEk3BXSQjlRb01HvRsNZSw6jgeerc7uPG9v2dBwD4zh9+EHevGqzTCspZ/G8kRUrLiGQkzTx2KXUxOTnJ3VefH3uhTlTwfPvoiWP7/s4DuHusC6FppYeU68+OZu4iGUlrOfz0WfKlyxfw4Oc+QNcMo9DdxcSks/fgWE1L+ruCHHu9Y0srKKtlQHY0cxfJSFrL4afPkr+/8wBX3buNQncX+399hE9t+FHkVnJRS/oL3V2Jxpa0VUCJWgZkRytURTKUxkXHPcOHWbl+8wnHt667mM9sfOaEWW84X10pNw7UPbY0L4RqVWr9Eq1QNbNvAZcDB9z9nODYu4FHgCXAL4H/6O7DZmbAnwMfAw4Df+DuP0njJETaURorLqNSF8fcq6ZGqq0YrXdsafZx0arUbMRJy9wHrJp27CvA0+6+FHg6uA1wGbA0+LcWuDOdYYp0rqjUxUmz4qVGsloxqpWora3qzN3df2hmS6YdXg1cFPx+P7AFWBccf8CLuZ5nzKzHzM50971pDVik01TaVi5JF0XJt3qrZU4vBWx332tmC4LjC4HdoccNBscU3EUSiEpdqMWtREm7FLLcf1Vlr9ia2VqKqRsWL16c8jBEOoPy1RKl3lLI/WZ2JkDw80BwfBBYFHpcH/B6uSdw943u3u/u/b29vXUOQyS/1HNFkqg3uD8BrAl+XwM8Hjp+jRVdABxUvl2kdlEbTSvAS1xVg7uZPQT8GFhmZoNmdh3wp8BHzOwl4CPBbYB/AF4FXgbuAW7MZNQiba7arDzN7o/SmeJUy/xexF2XlHmsA59POiiRPIuzsOjw+IR6rkgiaj8g0mBRs/KRsfGpVMyL+0ab1l9d8kHBXaTBoppujY0fmwr6d215hfWfPlc9V6Ru6gop0mBx2gns2D3CHd/bxS2XL+e9Z8yj0D1TNexSE83cRSrIohwxbjuBHbtHuPXJnRS6Z6a2vF/llZ1DM3eRCFltAdesdgLa0q6zqOWvSISh0SNcsWFrxZa6acuy/W0zzkeylajlr0g7SiNINmMLuCzbCWhLu86i4C65kzT9UPpgAGreAq6VN57QlnadRRdUJXeSrO4ML/v/woM7uP3K+OWI9bYMSOsiZ7Xn0ZZ2nUUzd8mduOmHcrPs8AfD4PAYtz21i1tXn8PZC+ZSmFV5Jh71oVIpp53WRc44z5Pm7knS+jRzl9yJs3lz1Cx7+gfDjt0jXHvfs3QZkeWIpRlzPS0D0uohE/d5tHtS51Bwl9yJk36ICoZmVtOy//CHRD0tA9K6yKmLpTKdgrvkTjj9sHXdxTx248oT0hxRwbDLqCkvHf6QqKdlQJxvGXGk9TySH8q5Sy5VKymMqhyZMWNGrLx0KV8fTsXU0zKg9C0j6cKltJ5H8kOLmKQjJbmQGf7bWy5fzq1P7ky0MCit8slWLsOUbFRaxKTgLh2r3mAYXum5YlEPX/roMtY9+pyW9EvDaYWqSBn1rgYN5+vVvVFalS6oitRo+sXLLLo3iiSl4C5SI630lHagtIxIjepd6akLntJICu4idag1X69e6tJoSsuINEBabQZE4tLMXTpKVGok65SJ2gNIoym4S8M1K/cclRpZ2juXl4beyjRlol7q0mhKy0hD1dvzPA1RqZEDbx3JPGWiChtpNM3cpaHq6XmelqjUyNFjk3X3f487s1cvdWk0BXdpqGbmnqNSI7O6ZlRNmaRR7ZLl/qgi0yVKy5jZH5nZz83seTN7yMxOMrOzzGybmb1kZo+Ymb53ypRmtqaNSo0smDu77v7vqnaRVlX3zN3MFgI3AcvdfczMvgN8FvgY8HV3f9jM7gKuA+5MZbTS9prZmrZSaqRaykTVLtJukqZlZgIFMzsKnAzsBT4MXBXcfz/wv1Bwl0Czc89RqZF6+7+r2kVaVd1pGXffA9wBvEYxqB8EtgMj7j4RPGwQWFju781srZkNmNnA0NBQvcOQNtSO+3iq2kXaTZK0zHxgNXAWMAL8HXBZmYeWrXFz943ARij2c693HCKN0OxvHCK1SpKW+R3gF+4+BGBm3wUuBHrMbGYwe+8DXk8+TJHyGrkgStUu0k6SBPfXgAvM7GRgDLgEGAA2A1cCDwNrgMeTDlKkHDXjEolWd3B3921mtgn4CTAB7KCYZvm/wMNm9ifBsW+mMVBpP1nPqqeXJ/bOnc2+g28zZ3YXhVnaEUk6W6JqGXf/Y+CPpx1+FXh/kueV9lfPrDr8YVDo7mJi0jk6MRn5wRAuT9RepiLHU28ZiW1y0hkaPcKe4cMMjR6Z6gdT7niti37CPWe+8OAOdu0b5VMbflSx/0x4QdQNF509FdjjvJ5I3im4ywnKBeuohl8TE5Nlj9e66Cf8YXDDRWfz5U3VA3W4PLGnMEuLjERCFNw7VKVZeLlg/atD5TsnTu+oWMp7O9TUZiD8YRA3UIfLE/vmF5rW1kCkFSm4d6BKbXej0ilvH63eUbGU977l8ef5Lw/u4PYrz4296CecYhkZOxo7UJfKE888paBFRiIh6grZgSq13Y1Kp3SZVe2oGM57Dw6PcdtTu7h19TmcvWAuhVmVq2XCPWfu2vIKt1957lRqJk6g1iIjkeMpuHegSvnwqB4qhe6usg2/Sh0Vr39g4IR0yo7dI1x737NsXXdx1cU/04NzobuL7954YcVqmXLPUe51mrXzk0gzKbh3oEpNsKK6NvYUuukpdFftqJikuVYWK0C10Ek6lbk3v61Lf3+/DwwMNHsYHaNawKt3ptuKgXRo9AhXbNh6wgdOI3Z+EsmamW139/5y92nm3oGq5afrnUFnlfeudXFTmPqwS6dScO9QWTXBSvt5w98GeufO5uZVy0640Frpm4H6sEunUimktLR6FjeFqQ+7dCrN3KWl1bO4KUwlktKpNHOXllbv4qawdtz5SSQpBXdpaeG0Smlxk1IsItWpFFJaXpJqGZE8UymktDVtbydSO6VlRERySMFdRCSHlJaRhlDzLpHGUnCXzLVizxmRvFNaRjJX636qIpKcZu5SURrplErNu5SuEcmGgrtESiudUmkDEKVrRLKhtIxESiudEtW8a2LSla4RyYhm7hIprV7oUc279h4cU691kYxo5i6Rwk27SurthV6ueVeazy8ix0sU3M2sx8w2mdmLZvaCmX3QzN5tZj8ws5eCn/PTGmynmpx0hkaPsGf4MEOjR5icbEw/oKx7oavXukh2EjUOM7P7gf/n7veaWTdwMvDfgTfd/U/N7CvAfHdfV+l5OrlxWLVqkUbUiFcaQ9bVLKqWEalfpcZhdQd3M3sX8DPgPR56EjPbBVzk7nvN7Exgi7svq/RcnRrc4wTuShs8nzqnO3Fg1AIjkfZVKbgnScu8BxgCvm1mO8zsXjObA5zu7nsBgp8LIga11swGzGxgaGgowTDaTynNsvfgWNVqkaiLmpOTk+zaP8oVG7aycv1mvvbYcwwOH645daMFRiL5lCS4zwTOA+509xXAIeArcf/Y3Te6e7+79/f29iYYRnspzZRLs/Fq1SJRFx2POVNBecWiHtZceBZX3buNles3c8WGrezaPxorwKdVESMirSVJcB8EBt19W3B7E8Vgvz9IxxD8PJBsiPkSninH2TYu6qKju08F5RsuOpt1j76zcXTv3NnsO/g2gyOHefPQEQ6Mvh05o1fFikg+1R3c3X0fsNvMSvn0S4CdwBPAmuDYGuDxRCPMmfBM+a4tr7D+0+9sG3fp8gU8+LkPMD5xbCoQh2vEt667mMduXMmy0+cdF5TDG0evWNTDlz66jFsef54vPvRTdu0b5VMbfhQ5o6+3YqVZFTwiEk/Sapn3AfcC3cCrwLUUPzC+AywGXgN+193frPQ8nXRBdfoF0hWLerjpkqX81pnzePPQOH/419tjXdgMXwi95fLl3PrkTgaHx7j76vPL/l5Suhgb3tmo1ooVXYQVaQ1ZXVDF3X8a5M3PdfdPuvuwu7/h7pe4+9LgZ8XA3mmmz5SH3jrCGaecRNcMmwrsUP3CZnhG/76+U7j76vPpm184bhYf/r2kXD693AKjSnQRVqT1qf1Ag6W5FD+8t2jvvJOmnrPUpKuU05/+LeGYF1Mq9daU6yKsSOtT+4EmyGIpfuk5zzylMPXN4K4tr3D7lcWc/opFPdy8qpiL/9BtW2qqqJlOF2FFWl+inHtaOinnHmV6HvvS5Qv4Hx9fTlcQ+GuZZYdz6IXuLiYmnaMTk3xm4zNV8+/1jFU5d5HmqJRzV1qmRYTTNZOTk/zq0DhX3butruAZTteU7Bk+nFoqJSq1pMAu0jqUlslIPaWCpaA8Y8aMmi6uxpF2KqXWi7Ai0lgK7hkIr0KtdcUoZHPBUh0YRTqL0jIZiCoVjJvfjtqWrntmV91dFJVKEeksmrlnIOnMO2qWPb8wK9E3AqVSRDqHZu4ZqDTzjiNqlp30G4GIdA7N3DOQRn673Cxbi4dEJC7N3DOQVX476TcCEekcmrmnKFz++MahcU6d051qflsVLyISl2buKWnEqk1VvIhIXJq5p6RRnRJV8SIicSi4p0QXO0WklSi4p0SdEkWklXRUcM9yazhd7BSRVtIxF1STXvCstuxfFztFpJXkJrhXC75JVnfG7bVertWuiEgz5CK4x5mVJ7ngGf5gWLGohzUXnlV3r3URkUbIRc49Thlikgue4Q+GGy46m3WPPqfNoUWkpeUiuMeZlSe54Bn+YOgpzFLJo4i0vFykZeL0XElywbP0wXD9AwOMjB1VfxcRaXm5mLnHnZXXu7oz/MHwvr5TuPvq86de69LlC3jwcx9gfOJY6uWVIiL1MvfmB6P+/n4fGBhI9Bz17lCU5LVKG1mX9jvVxVURaSQz2+7u/eXuy8XMHbLpuRK16KnWjayzXDwlIlJOLnLuWUirvLIR3SJFRKZLPHM3sy4z22FmTwa3zzKzbWb2kpk9YmZtuf4+rfLKRnWLFBEJSyMt80XghdDt9cDX3X0pMAxcl8JrNEwphXJ4fCKV8kp1ixSRZkgU3M2sD/g4cG9w24APA5uCh9wPfDLJazRSKYVyxYatvLhvtOqsPFxFs3XdxTx248oT0i3qFikizZB05v4N4GZgMrh9KjDi7hPB7UFgYbk/NLO1ZjZgZgNDQ0MJh5GOcArlri2vsP7T5yYur1S3SBFphrovqJrZ5cABd99uZheVDpd5aNnSEHffCGyEYilkveNIUziFsmP3CHd8bxe3XL6c954xj0L3zLrKK9UtUkSaIcnMfSXwCTP7JfAwxXTMN4AeMyt9aPQBrycaYQNNT6Hs2D3CrU/upNA9M1F5pbbGE5FGqzu4u/tX3b3P3ZcAnwX+0d1/H9gMXBk8bA3weOJRNohSKCKSF1nUua8DHjazPwF2AN/M4DUyoRSKiORFKsHd3bcAW4LfXwXen8bzVpJVuwFtuCEiedCWK1S16lNEpLK27C2T9qpP9X4Rkbxpy5l7Las+q6Vv9C1ARPKoLWfucVd9hlecrly/mSs2bGXX/tHjZubq/SIiedSWwT1uyWKcwK3eLyKSR22ZlolbslgpcJfSNYC2zROR3GnL4A7xShaj9lYtdHdN5dl7587m9ivP5cubnjsu566FSyLSzto2uMcR3tg6HLgnJn3q2ODwGLc9tYtbV5/D2QvmUpilhUsi0v5yHdyj0jd7D44dN5vfsXuEa+97lq3rLtYCJhHJhVwHdyifvolK1yjPLiJ50ZbVMtVUW5SkBmEikne5m7nHWZSkBmEikne5m7nHXZSkHusikme5C+5alCQiksPgrg2pRURyGNx1sVREJIcXVHWxVEQkh8EdtJuSiEju0jIiIqLgLiKSSwruIiI5pOAuIpJDCu4iIjlk7l79UVkPwmwI+Nc6//w04FcpDqdddOJ5d+I5Q2eedyeeM9R+3r/p7r3l7miJ4J6EmQ24e3+zx9FonXjenXjO0Jnn3YnnDOmet9IyIiI5pOAuIpJDeQjuG5s9gCbpxPPuxHOGzjzvTjxnSPG82z7nLiIiJ8rDzF1ERKZRcBcRyaG2Du5mtsrMdpnZy2b2lWaPJwtmtsjMNpvZC2b2czP7YnD83Wb2AzN7Kfg5v9ljzYKZdZnZDjN7Mrh9lpltC877ETPLVaN+M+sxs01m9mLwnn+wE95rM/uj4L/v583sITM7KY/vtZl9y8wOmNnzoWNl318r+osgvj1nZufV8lptG9zNrAv4K+AyYDnwe2a2vLmjysQE8N/c/b3ABcDng/P8CvC0uy8Fng5u59EXgRdCt9cDXw/Oexi4rimjys6fA0+5+28Bv03x3HP9XpvZQuAmoN/dzwG6gM+Sz/f6PmDVtGNR7+9lwNLg31rgzlpeqG2DO/B+4GV3f9Xdx4GHgdVNHlPq3H2vu/8k+H2U4v/ZF1I81/uDh90PfLI5I8yOmfUBHwfuDW4b8GFgU/CQXJ23mb0L+BDwTQB3H3f3ETrgvaa4t0TBzGYCJwN7yeF77e4/BN6cdjjq/V0NPOBFzwA9ZnZm3Ndq5+C+ENgduj0YHMstM1sCrAC2Aae7+14ofgAAC5o3ssx8A7gZmAxunwqMuPtEcDtv7/l7gCHg20Eq6l4zm0PO32t33wPcAbxGMagfBLaT7/c6LOr9TRTj2jm4l9s3L7d1nWY2F3gU+K/u/utmjydrZnY5cMDdt4cPl3lont7zmcB5wJ3uvgI4RM5SMOUEOebVwFnAbwBzKKYkpsvTex1Hov/e2zm4DwKLQrf7gNebNJZMmdksioH9b939u8Hh/aWvaMHPA80aX0ZWAp8ws19STLl9mOJMvif46g75e88HgUF33xbc3kQx2Of9vf4d4BfuPuTuR4HvAheS7/c6LOr9TRTj2jm4PwssDa6od1O8APNEk8eUuiDP/E3gBXf/s9BdTwBrgt/XAI83emxZcvevunufuy+h+N7+o7v/PrAZuDJ4WK7O2933AbvNbFlw6BJgJzl/rymmYy4ws5OD/95L553b93qaqPf3CeCaoGrmAuBgKX0Ti7u37T/gY8C/AK8AX2v2eDI6x39H8avYc8BPg38fo5h/fhp4Kfj57maPNcP/DS4Cngx+fw/wT8DLwN8Bs5s9vpTP9X3AQPB+/z0wvxPea+B/Ay8CzwN/DczO43sNPETxusJRijPz66LeX4ppmb8K4ts/U6wmiv1aaj8gIpJD7ZyWERGRCAruIiI5pOAuIpJDCu4iIjmk4C4ikkMK7iIiOaTgLiKSQ/8fLrL0GK+xrggAAAAASUVORK5CYII=\n",
>>>>>>> 7f7ff62ef244b44ab963f7423790672f3ae0f52b
      "text/plain": [
       "<Figure size 432x288 with 1 Axes>"
      ]
     },
     "metadata": {
      "needs_background": "light"
     },
     "output_type": "display_data"
    }
   ],
   "source": [
    "sns.scatterplot(x=x[:, 1], y=y)\n",
    "\n",
    "plt.show()"
   ]
  },
  {
   "cell_type": "code",
   "execution_count": 14,
   "metadata": {},
   "outputs": [
    {
     "data": {
      "text/plain": [
       "(100,)"
      ]
     },
     "execution_count": 14,
     "metadata": {},
     "output_type": "execute_result"
    }
   ],
   "source": [
    "x\n",
    "theta = np.array([1.90595185,1.5342646])\n",
    "np.dot(x, theta).shape"
   ]
  },
  {
   "cell_type": "markdown",
   "metadata": {},
   "source": [
    "__Your Turn__\n",
    "\n",
    "Write a gradient descent function for this linear problem\n",
    "\n",
    "- Inputs:\n",
    "x, y, theta: initialized with some random values, alpha: learning rate, m: length of data, numiterations: number of iterations\n",
    "\n",
    "- return: plot the errors for each iterations\n",
    "- return the final theta values"
   ]
  },
  {
   "cell_type": "code",
<<<<<<< HEAD
   "execution_count": 15,
=======
   "execution_count": 10,
>>>>>>> 7f7ff62ef244b44ab963f7423790672f3ae0f52b
   "metadata": {},
   "outputs": [],
   "source": [
    "# %load -r 1-20 supplement.py\n",
    "def gradientDescent(x, y, theta, alpha, m, numIterations):\n",
    "    xTrans = x.transpose()\n",
    "    costs = []\n",
    "    for i in range(0, numIterations):\n",
    "        hypothesis = np.dot(x, theta)\n",
    "        loss = hypothesis - y\n",
    "        # avg cost per example (the 2 in 2*m doesn't really matter here.\n",
    "        # But to be consistent with the gradient, I include it)\n",
    "        cost = np.sum(loss ** 2) / (2 * m)\n",
    "        if i % (numIterations // 40) == 0:\n",
    "            print(\"Iteration %d | Cost: %f\" % (i, cost))\n",
    "            print(theta)\n",
    "        costs.append(cost)\n",
    "        # avg gradient per example\n",
    "        gradient = np.dot(xTrans, loss) / m\n",
    "        # update\n",
    "        theta = theta - alpha * gradient\n",
    "    sns.scatterplot(y=costs, x=[i for i in range(len(costs))])\n",
    "\n",
    "    return theta"
   ]
  },
  {
   "cell_type": "code",
<<<<<<< HEAD
   "execution_count": 16,
=======
   "execution_count": 11,
>>>>>>> 7f7ff62ef244b44ab963f7423790672f3ae0f52b
   "metadata": {},
   "outputs": [
    {
     "name": "stdout",
     "output_type": "stream",
     "text": [
<<<<<<< HEAD
      "Iteration 0 | Cost: 468.168526\n",
      "[37.0595185  1.5342646]\n",
      "Iteration 2500 | Cost: 27.638026\n",
      "[37.04338766  1.01650233]\n",
      "Iteration 5000 | Cost: 27.637782\n",
      "[37.03557629  1.0166201 ]\n",
      "Iteration 7500 | Cost: 27.637567\n",
      "[37.02824499  1.01673063]\n",
      "Iteration 10000 | Cost: 27.637377\n",
      "[37.02136428  1.01683436]\n",
      "Iteration 12500 | Cost: 27.637210\n",
      "[37.01490644  1.01693173]\n",
      "Iteration 15000 | Cost: 27.637063\n",
      "[37.00884549  1.0170231 ]\n",
      "Iteration 17500 | Cost: 27.636934\n",
      "[37.00315704  1.01710887]\n",
      "Iteration 20000 | Cost: 27.636820\n",
      "[36.9978182   1.01718936]\n",
      "Iteration 22500 | Cost: 27.636719\n",
      "[36.99280748  1.0172649 ]\n",
      "Iteration 25000 | Cost: 27.636631\n",
      "[36.98810471  1.0173358 ]\n",
      "Iteration 27500 | Cost: 27.636553\n",
      "[36.98369096  1.01740235]\n",
      "Iteration 30000 | Cost: 27.636484\n",
      "[36.97954849  1.0174648 ]\n",
      "Iteration 32500 | Cost: 27.636424\n",
      "[36.9756606   1.01752342]\n",
      "Iteration 35000 | Cost: 27.636370\n",
      "[36.97201166  1.01757843]\n",
      "Iteration 37500 | Cost: 27.636323\n",
      "[36.96858697  1.01763006]\n",
      "Iteration 40000 | Cost: 27.636282\n",
      "[36.96537277  1.01767852]\n",
      "Iteration 42500 | Cost: 27.636246\n",
      "[36.96235611  1.017724  ]\n",
      "Iteration 45000 | Cost: 27.636214\n",
      "[36.95952484  1.01776669]\n",
      "Iteration 47500 | Cost: 27.636185\n",
      "[36.95686759  1.01780675]\n",
      "Iteration 50000 | Cost: 27.636160\n",
      "[36.95437364  1.01784435]\n",
      "Iteration 52500 | Cost: 27.636138\n",
      "[36.95203297  1.01787964]\n",
      "Iteration 55000 | Cost: 27.636119\n",
      "[36.94983616  1.01791276]\n",
      "Iteration 57500 | Cost: 27.636102\n",
      "[36.94777436  1.01794385]\n",
      "Iteration 60000 | Cost: 27.636087\n",
      "[36.94583927  1.01797302]\n",
      "Iteration 62500 | Cost: 27.636074\n",
      "[36.94402311  1.0180004 ]\n",
      "Iteration 65000 | Cost: 27.636062\n",
      "[36.94231858  1.0180261 ]\n",
      "Iteration 67500 | Cost: 27.636052\n",
      "[36.9407188   1.01805022]\n",
      "Iteration 70000 | Cost: 27.636043\n",
      "[36.93921734  1.01807286]\n",
      "Iteration 72500 | Cost: 27.636035\n",
      "[36.93780816  1.0180941 ]\n",
      "Iteration 75000 | Cost: 27.636028\n",
      "[36.93648559  1.01811404]\n",
      "Iteration 77500 | Cost: 27.636022\n",
      "[36.9352443   1.01813276]\n",
      "Iteration 80000 | Cost: 27.636016\n",
      "[36.93407929  1.01815032]\n",
      "Iteration 82500 | Cost: 27.636012\n",
      "[36.93298589  1.0181668 ]\n",
      "Iteration 85000 | Cost: 27.636007\n",
      "[36.93195969  1.01818228]\n",
      "Iteration 87500 | Cost: 27.636004\n",
      "[36.93099656  1.0181968 ]\n",
      "Iteration 90000 | Cost: 27.636001\n",
      "[36.93009262  1.01821043]\n",
      "Iteration 92500 | Cost: 27.635998\n",
      "[36.92924423  1.01822322]\n",
      "Iteration 95000 | Cost: 27.635995\n",
      "[36.92844799  1.01823522]\n",
      "Iteration 97500 | Cost: 27.635993\n",
      "[36.92770068  1.01824649]\n"
=======
      "Iteration 0 | Cost: 507.717060\n",
      "[37.0595185  1.5342646]\n",
      "Iteration 2500 | Cost: 22.877510\n",
      "[37.00114332  0.99171797]\n",
      "Iteration 5000 | Cost: 22.868631\n",
      "[36.95404353  0.99242807]\n",
      "Iteration 7500 | Cost: 22.860811\n",
      "[36.90983844  0.99309453]\n",
      "Iteration 10000 | Cost: 22.853922\n",
      "[36.86835014  0.99372003]\n",
      "Iteration 12500 | Cost: 22.847853\n",
      "[36.82941167  0.99430708]\n",
      "Iteration 15000 | Cost: 22.842508\n",
      "[36.79286631  0.99485806]\n",
      "Iteration 17500 | Cost: 22.837800\n",
      "[36.75856699  0.99537518]\n",
      "Iteration 20000 | Cost: 22.833653\n",
      "[36.72637567  0.99586051]\n",
      "Iteration 22500 | Cost: 22.829999\n",
      "[36.69616278  0.99631602]\n",
      "Iteration 25000 | Cost: 22.826781\n",
      "[36.66780675  0.99674353]\n",
      "Iteration 27500 | Cost: 22.823947\n",
      "[36.64119345  0.99714476]\n",
      "Iteration 30000 | Cost: 22.821450\n",
      "[36.61621577  0.99752134]\n",
      "Iteration 32500 | Cost: 22.819250\n",
      "[36.59277319  0.99787477]\n",
      "Iteration 35000 | Cost: 22.817313\n",
      "[36.57077137  0.99820649]\n",
      "Iteration 37500 | Cost: 22.815606\n",
      "[36.55012175  0.99851781]\n",
      "Iteration 40000 | Cost: 22.814103\n",
      "[36.53074124  0.99881   ]\n",
      "Iteration 42500 | Cost: 22.812779\n",
      "[36.51255183  0.99908424]\n",
      "Iteration 45000 | Cost: 22.811613\n",
      "[36.49548032  0.99934161]\n",
      "Iteration 47500 | Cost: 22.810585\n",
      "[36.479458    0.99958318]\n",
      "Iteration 50000 | Cost: 22.809680\n",
      "[36.4644204   0.99980989]\n",
      "Iteration 52500 | Cost: 22.808883\n",
      "[36.45030699  1.00002267]\n",
      "Iteration 55000 | Cost: 22.808181\n",
      "[36.43706098  1.00022238]\n",
      "Iteration 57500 | Cost: 22.807562\n",
      "[36.42462905  1.00040981]\n",
      "Iteration 60000 | Cost: 22.807017\n",
      "[36.41296118  1.00058572]\n",
      "Iteration 62500 | Cost: 22.806537\n",
      "[36.4020104   1.00075082]\n",
      "Iteration 65000 | Cost: 22.806115\n",
      "[36.39173264  1.00090577]\n",
      "Iteration 67500 | Cost: 22.805742\n",
      "[36.38208654  1.0010512 ]\n",
      "Iteration 70000 | Cost: 22.805414\n",
      "[36.37303328  1.00118769]\n",
      "Iteration 72500 | Cost: 22.805125\n",
      "[36.36453642  1.0013158 ]\n",
      "Iteration 75000 | Cost: 22.804871\n",
      "[36.35656177  1.00143603]\n",
      "Iteration 77500 | Cost: 22.804647\n",
      "[36.34907723  1.00154887]\n",
      "Iteration 80000 | Cost: 22.804449\n",
      "[36.34205269  1.00165477]\n",
      "Iteration 82500 | Cost: 22.804275\n",
      "[36.33545986  1.00175417]\n",
      "Iteration 85000 | Cost: 22.804122\n",
      "[36.32927222  1.00184746]\n",
      "Iteration 87500 | Cost: 22.803987\n",
      "[36.32346487  1.00193501]\n",
      "Iteration 90000 | Cost: 22.803868\n",
      "[36.31801443  1.00201719]\n",
      "Iteration 92500 | Cost: 22.803763\n",
      "[36.31289897  1.00209431]\n",
      "Iteration 95000 | Cost: 22.803671\n",
      "[36.3080979   1.00216669]\n",
      "Iteration 97500 | Cost: 22.803590\n",
      "[36.3035919   1.00223463]\n"
>>>>>>> 7f7ff62ef244b44ab963f7423790672f3ae0f52b
     ]
    },
    {
     "data": {
      "text/plain": [
<<<<<<< HEAD
       "array([36.9269993 ,  1.01825706])"
      ]
     },
     "execution_count": 16,
=======
       "array([36.29936283,  1.00229839])"
      ]
     },
     "execution_count": 11,
>>>>>>> 7f7ff62ef244b44ab963f7423790672f3ae0f52b
     "metadata": {},
     "output_type": "execute_result"
    },
    {
     "data": {
<<<<<<< HEAD
      "image/png": "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\n",
=======
      "image/png": "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\n",
>>>>>>> 7f7ff62ef244b44ab963f7423790672f3ae0f52b
      "text/plain": [
       "<Figure size 432x288 with 1 Axes>"
      ]
     },
     "metadata": {
      "needs_background": "light"
     },
     "output_type": "display_data"
    }
   ],
   "source": [
    "numIterations = 100000\n",
    "alpha = 0.0001\n",
    "theta = np.array([37.0595185,1.5342646])\n",
    "a = gradientDescent(x, y, theta, alpha, m, numIterations)\n",
    "a"
   ]
  },
  {
   "cell_type": "markdown",
   "metadata": {},
   "source": [
    "Let's compare the results with the sklearn."
   ]
  },
  {
   "cell_type": "code",
<<<<<<< HEAD
   "execution_count": 17,
=======
   "execution_count": 12,
>>>>>>> 7f7ff62ef244b44ab963f7423790672f3ae0f52b
   "metadata": {},
   "outputs": [],
   "source": [
    "from sklearn.linear_model import LinearRegression"
   ]
  },
  {
   "cell_type": "code",
<<<<<<< HEAD
   "execution_count": 18,
=======
   "execution_count": 13,
>>>>>>> 7f7ff62ef244b44ab963f7423790672f3ae0f52b
   "metadata": {},
   "outputs": [
    {
     "name": "stdout",
     "output_type": "stream",
     "text": [
<<<<<<< HEAD
      "[36.9162885   1.01841854]\n"
=======
      "[36.23478054  1.00327207]\n"
>>>>>>> 7f7ff62ef244b44ab963f7423790672f3ae0f52b
     ]
    }
   ],
   "source": [
    "lr = LinearRegression(fit_intercept= False)\n",
    "lr.fit(x,y)\n",
    "print(lr.coef_)\n"
   ]
  },
  {
   "cell_type": "code",
   "execution_count": null,
   "metadata": {},
   "outputs": [],
   "source": []
  }
 ],
 "metadata": {
  "kernelspec": {
   "display_name": "Python 3",
   "language": "python",
   "name": "python3"
  },
  "language_info": {
   "codemirror_mode": {
    "name": "ipython",
    "version": 3
   },
   "file_extension": ".py",
   "mimetype": "text/x-python",
   "name": "python",
   "nbconvert_exporter": "python",
   "pygments_lexer": "ipython3",
   "version": "3.6.9"
  },
  "toc": {
   "base_numbering": 1,
   "nav_menu": {},
   "number_sections": true,
   "sideBar": true,
   "skip_h1_title": false,
   "title_cell": "Table of Contents",
   "title_sidebar": "Contents",
   "toc_cell": false,
   "toc_position": {},
   "toc_section_display": true,
   "toc_window_display": false
  }
 },
 "nbformat": 4,
 "nbformat_minor": 2
}
