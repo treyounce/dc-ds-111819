{
 "cells": [
  {
   "cell_type": "markdown",
   "metadata": {},
   "source": [
    "# Linear Algebra, Calculus, and Gradient Descent\n",
    "\n",
    "__Objectives__\n",
    "* Use operations with vectors and matrices to solve systems of linear equations\n",
    "* Identify and describe of scalars, vectors,  matrices, using appropriate mathematical jargon\n",
    "* Set up and solve systems of linear equations with real life examples\n",
    "* Describe gradient descent in relation to slope, derivatives, and step size\n",
    "\n",
    "\n",
    "## Why Linear Algebra?\n",
    "\n",
    "Linear Algebra is the basis of many machine learning models.\n",
    "\n",
    "Data is usually already set up into a matrix by default!\n",
    "\n",
    "<img src= \"./resources/dataset.jpeg\">\n"
   ]
  },
  {
   "cell_type": "markdown",
   "metadata": {},
   "source": [
    "\n",
    "It can be used to model complicated things like language\n",
    "\n",
    "<img src = \"./resources/Word-Vectors.png\">"
   ]
  },
  {
   "cell_type": "markdown",
   "metadata": {},
   "source": [
    "Important for image compression and recognition\n",
    "\n",
    "<img src = \"./resources/images.gif\">"
   ]
  },
  {
   "cell_type": "markdown",
   "metadata": {},
   "source": [
    "Also matrices are the common notation used in the popular libraries like numpy, scipy and sklearn.\n",
    "\n",
    "<img src = \"./resources/matrix_multiplication.png\">\n",
    "\n",
    "\n",
    "-- they are using w because it corresponds to the weight of the coeefficient \n",
    "\n"
   ]
  },
  {
   "cell_type": "markdown",
   "metadata": {},
   "source": [
    "This is an image from Andrew Ng's Neural Networks and Deep Learning course.\n",
    "\n",
    "<img src = \"./resources/gradient_descent.png\" width  = 500>"
   ]
  },
  {
   "cell_type": "markdown",
   "metadata": {},
   "source": [
    "This is an image from Andrew Ng's Sequence Model's Course. \n",
    "\n",
    "<img src = \"./resources/lstm.png\" width  = 500>"
   ]
  },
  {
   "cell_type": "markdown",
   "metadata": {},
   "source": [
    "## Linear algebra and Linear Regression\n",
    "\n",
    "- Let's move to the notebook matrix algebra with numpy :)"
   ]
  },
  {
   "cell_type": "markdown",
   "metadata": {},
   "source": [
    "## Gradient Descent"
   ]
  },
  {
   "cell_type": "markdown",
   "metadata": {},
   "source": [
    "[Gradient slide](https://www.youtube.com/watch?v=vWFjqgb-ylQ)\n",
    "\n",
    "\n",
    "\n",
    "-- if you have 2 dimensional data, you need 3D to graph it. You will have 2 categories and your target. \n",
    "\n",
    "\n",
    "-- xnew = xold - (alpha(percentage size step to take aka learning rate) * the gradient) \n",
    "\n",
    "-- you are taking the inverse because the direction will follow the gradient, so you need to take the inverse of that in order to follow gradient descent\n"
   ]
  },
  {
   "cell_type": "markdown",
   "metadata": {},
   "source": [
    "## Gradient in Action"
   ]
  },
  {
   "cell_type": "code",
   "execution_count": 8,
   "metadata": {},
   "outputs": [],
   "source": [
    "import pandas as pd\n",
    "import numpy as np\n",
    "from matplotlib import pyplot as plt\n",
    "import random\n",
    "import seaborn as sns"
   ]
  },
  {
   "cell_type": "code",
   "execution_count": 9,
   "metadata": {},
   "outputs": [
    {
     "data": {
      "text/plain": [
       "array([0., 0., 0., 0., 0., 0., 0., 0., 0., 0.])"
      ]
     },
     "execution_count": 9,
     "metadata": {},
     "output_type": "execute_result"
    }
   ],
   "source": [
    "numPoints=10\n",
    "np.zeros(shape=numPoints)"
   ]
  },
  {
   "cell_type": "code",
   "execution_count": 10,
   "metadata": {},
   "outputs": [],
   "source": [
    "def genData(numPoints, bias, variance):\n",
    "    x = np.zeros(shape=(numPoints, 2))\n",
    "    y = np.zeros(shape=numPoints)\n",
    "    # basically a straight line\n",
    "    for i in range(0, numPoints):\n",
    "        # bias feature\n",
    "        x[i][0] = 1\n",
    "        x[i][1] = i\n",
    "        # our target variable\n",
    "        y[i] = (i + bias) + np.random.uniform(0, 1) * variance\n",
    "    return x, y"
   ]
  },
  {
   "cell_type": "code",
   "execution_count": 11,
   "metadata": {},
   "outputs": [],
   "source": [
    "x = np.random.uniform(low =0, high=1, size = 1000)\n",
    "\n",
    "y = 10*x + 25 + np.random.normal(loc = 0, scale = 1, size = 1000)"
   ]
  },
  {
   "cell_type": "code",
   "execution_count": 12,
   "metadata": {},
   "outputs": [],
   "source": [
    "# gen 100 points with a bias of 25 and 10 variance as a bit of noise\n",
    "x, y = genData(100, 25, 25)\n",
    "m, n = np.shape(x)"
   ]
  },
  {
   "cell_type": "code",
   "execution_count": 13,
   "metadata": {},
   "outputs": [
    {
     "data": {
      "image/png": "[encoded data removed]",
      "text/plain": [
       "<Figure size 432x288 with 1 Axes>"
      ]
     },
     "metadata": {
      "needs_background": "light"
     },
     "output_type": "display_data"
    }
   ],
   "source": [
    "sns.scatterplot(x=x[:, 1], y=y)\n",
    "\n",
    "plt.show()"
   ]
  },
  {
   "cell_type": "code",
   "execution_count": 14,
   "metadata": {},
   "outputs": [
    {
     "data": {
      "text/plain": [
       "(100,)"
      ]
     },
     "execution_count": 14,
     "metadata": {},
     "output_type": "execute_result"
    }
   ],
   "source": [
    "x\n",
    "theta = np.array([1.90595185,1.5342646])\n",
    "np.dot(x, theta).shape"
   ]
  },
  {
   "cell_type": "markdown",
   "metadata": {},
   "source": [
    "__Your Turn__\n",
    "\n",
    "Write a gradient descent function for this linear problem\n",
    "\n",
    "- Inputs:\n",
    "x, y, theta: initialized with some random values, alpha: learning rate, m: length of data, numiterations: number of iterations\n",
    "\n",
    "- return: plot the errors for each iterations\n",
    "- return the final theta values"
   ]
  },
  {
   "cell_type": "code",
   "execution_count": 15,
   "metadata": {},
   "outputs": [],
   "source": [
    "# %load -r 1-20 supplement.py\n",
    "def gradientDescent(x, y, theta, alpha, m, numIterations):\n",
    "    xTrans = x.transpose()\n",
    "    costs = []\n",
    "    for i in range(0, numIterations):\n",
    "        hypothesis = np.dot(x, theta)\n",
    "        loss = hypothesis - y\n",
    "        # avg cost per example (the 2 in 2*m doesn't really matter here.\n",
    "        # But to be consistent with the gradient, I include it)\n",
    "        cost = np.sum(loss ** 2) / (2 * m)\n",
    "        if i % (numIterations // 40) == 0:\n",
    "            print(\"Iteration %d | Cost: %f\" % (i, cost))\n",
    "            print(theta)\n",
    "        costs.append(cost)\n",
    "        # avg gradient per example\n",
    "        gradient = np.dot(xTrans, loss) / m\n",
    "        # update\n",
    "        theta = theta - alpha * gradient\n",
    "    sns.scatterplot(y=costs, x=[i for i in range(len(costs))])\n",
    "\n",
    "    return theta"
   ]
  },
  {
   "cell_type": "code",
   "execution_count": 16,
   "metadata": {},
   "outputs": [
    {
     "name": "stdout",
     "output_type": "stream",
     "text": [
      "Iteration 0 | Cost: 468.168526\n",
      "[37.0595185  1.5342646]\n",
      "Iteration 2500 | Cost: 27.638026\n",
      "[37.04338766  1.01650233]\n",
      "Iteration 5000 | Cost: 27.637782\n",
      "[37.03557629  1.0166201 ]\n",
      "Iteration 7500 | Cost: 27.637567\n",
      "[37.02824499  1.01673063]\n",
      "Iteration 10000 | Cost: 27.637377\n",
      "[37.02136428  1.01683436]\n",
      "Iteration 12500 | Cost: 27.637210\n",
      "[37.01490644  1.01693173]\n",
      "Iteration 15000 | Cost: 27.637063\n",
      "[37.00884549  1.0170231 ]\n",
      "Iteration 17500 | Cost: 27.636934\n",
      "[37.00315704  1.01710887]\n",
      "Iteration 20000 | Cost: 27.636820\n",
      "[36.9978182   1.01718936]\n",
      "Iteration 22500 | Cost: 27.636719\n",
      "[36.99280748  1.0172649 ]\n",
      "Iteration 25000 | Cost: 27.636631\n",
      "[36.98810471  1.0173358 ]\n",
      "Iteration 27500 | Cost: 27.636553\n",
      "[36.98369096  1.01740235]\n",
      "Iteration 30000 | Cost: 27.636484\n",
      "[36.97954849  1.0174648 ]\n",
      "Iteration 32500 | Cost: 27.636424\n",
      "[36.9756606   1.01752342]\n",
      "Iteration 35000 | Cost: 27.636370\n",
      "[36.97201166  1.01757843]\n",
      "Iteration 37500 | Cost: 27.636323\n",
      "[36.96858697  1.01763006]\n",
      "Iteration 40000 | Cost: 27.636282\n",
      "[36.96537277  1.01767852]\n",
      "Iteration 42500 | Cost: 27.636246\n",
      "[36.96235611  1.017724  ]\n",
      "Iteration 45000 | Cost: 27.636214\n",
      "[36.95952484  1.01776669]\n",
      "Iteration 47500 | Cost: 27.636185\n",
      "[36.95686759  1.01780675]\n",
      "Iteration 50000 | Cost: 27.636160\n",
      "[36.95437364  1.01784435]\n",
      "Iteration 52500 | Cost: 27.636138\n",
      "[36.95203297  1.01787964]\n",
      "Iteration 55000 | Cost: 27.636119\n",
      "[36.94983616  1.01791276]\n",
      "Iteration 57500 | Cost: 27.636102\n",
      "[36.94777436  1.01794385]\n",
      "Iteration 60000 | Cost: 27.636087\n",
      "[36.94583927  1.01797302]\n",
      "Iteration 62500 | Cost: 27.636074\n",
      "[36.94402311  1.0180004 ]\n",
      "Iteration 65000 | Cost: 27.636062\n",
      "[36.94231858  1.0180261 ]\n",
      "Iteration 67500 | Cost: 27.636052\n",
      "[36.9407188   1.01805022]\n",
      "Iteration 70000 | Cost: 27.636043\n",
      "[36.93921734  1.01807286]\n",
      "Iteration 72500 | Cost: 27.636035\n",
      "[36.93780816  1.0180941 ]\n",
      "Iteration 75000 | Cost: 27.636028\n",
      "[36.93648559  1.01811404]\n",
      "Iteration 77500 | Cost: 27.636022\n",
      "[36.9352443   1.01813276]\n",
      "Iteration 80000 | Cost: 27.636016\n",
      "[36.93407929  1.01815032]\n",
      "Iteration 82500 | Cost: 27.636012\n",
      "[36.93298589  1.0181668 ]\n",
      "Iteration 85000 | Cost: 27.636007\n",
      "[36.93195969  1.01818228]\n",
      "Iteration 87500 | Cost: 27.636004\n",
      "[36.93099656  1.0181968 ]\n",
      "Iteration 90000 | Cost: 27.636001\n",
      "[36.93009262  1.01821043]\n",
      "Iteration 92500 | Cost: 27.635998\n",
      "[36.92924423  1.01822322]\n",
      "Iteration 95000 | Cost: 27.635995\n",
      "[36.92844799  1.01823522]\n",
      "Iteration 97500 | Cost: 27.635993\n",
      "[36.92770068  1.01824649]\n"
     ]
    },
    {
     "data": {
      "text/plain": [
       "array([36.9269993 ,  1.01825706])"
      ]
     },
     "execution_count": 16,
     "metadata": {},
     "output_type": "execute_result"
    },
    {
     "data": {
      "image/png": "[encoded data removed]",
      "text/plain": [
       "<Figure size 432x288 with 1 Axes>"
      ]
     },
     "metadata": {
      "needs_background": "light"
     },
     "output_type": "display_data"
    }
   ],
   "source": [
    "numIterations = 100000\n",
    "alpha = 0.0001\n",
    "theta = np.array([37.0595185,1.5342646])\n",
    "a = gradientDescent(x, y, theta, alpha, m, numIterations)\n",
    "a"
   ]
  },
  {
   "cell_type": "markdown",
   "metadata": {},
   "source": [
    "Let's compare the results with the sklearn."
   ]
  },
  {
   "cell_type": "code",
   "execution_count": 17,
   "metadata": {},
   "outputs": [],
   "source": [
    "from sklearn.linear_model import LinearRegression"
   ]
  },
  {
   "cell_type": "code",
   "execution_count": 18,
   "metadata": {},
   "outputs": [
    {
     "name": "stdout",
     "output_type": "stream",
     "text": [
      "[36.9162885   1.01841854]\n"
     ]
    }
   ],
   "source": [
    "lr = LinearRegression(fit_intercept= False)\n",
    "lr.fit(x,y)\n",
    "print(lr.coef_)\n"
   ]
  },
  {
   "cell_type": "code",
   "execution_count": null,
   "metadata": {},
   "outputs": [],
   "source": []
  }
 ],
 "metadata": {
  "kernelspec": {
   "display_name": "Python 3",
   "language": "python",
   "name": "python3"
  },
  "language_info": {
   "codemirror_mode": {
    "name": "ipython",
    "version": 3
   },
   "file_extension": ".py",
   "mimetype": "text/x-python",
   "name": "python",
   "nbconvert_exporter": "python",
   "pygments_lexer": "ipython3",
   "version": "3.6.9"
  },
  "toc": {
   "base_numbering": 1,
   "nav_menu": {},
   "number_sections": true,
   "sideBar": true,
   "skip_h1_title": false,
   "title_cell": "Table of Contents",
   "title_sidebar": "Contents",
   "toc_cell": false,
   "toc_position": {},
   "toc_section_display": true,
   "toc_window_display": false
  }
 },
 "nbformat": 4,
 "nbformat_minor": 2
}
