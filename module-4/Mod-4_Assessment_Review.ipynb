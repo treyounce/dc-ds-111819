{
 "cells": [
  {
   "cell_type": "markdown",
   "metadata": {},
   "source": [
    "# Important Topics from Module-4\n",
    "\n",
    "- Linear Algebra: Especially use of numpy for vectors and matrices. Difference between 1D and 2D arrays. \n",
    "\n",
    "- Calculus and Cost functions: \n",
    "\n",
    "    - What is gradient descent algorithm\n",
    "    - What is learning rate in gradient descent.\n",
    "    - Make sure that you can calculate the step sizes given learning rate and gradient.\n",
    "    - The notebook \"Gradient to Cost Function\" has very useful information. Please make sure you understand the basics there. You don't have to understand calculus material there but overall you should understand what is going on.\n",
    "    \n",
    "- Extension to linear models\n",
    "    - Bias-Variance trade-off: Make sure you understand why this is called a \"trade-off\".\n",
    "    - Polynomial regression how this might be relevant in the context of bias-variance trade-off.\n",
    "    - Ridge and Lasso models: How are they similar to each other and how are they different. Also compare these models with linear regression. Understand Ridge and Lasso in the context of bias-variance. For example: \"Lasso decreases variance in the expense of adding a lit bit bias, etc.\"\n",
    "    - In the Ridge and Lasso understand why scaling is necessary.\n",
    "    - Feature selection: Forward and Backward future selection.\n",
    "- Logistic Regression\n",
    "    - Understand the model: log-odds, likelihood function and maximum likelihood.\n",
    "    - Confusion matrices: recall-precision- True positive rate -\n",
    "    False negative rate - F1 score.\n",
    "    - ROC curves: especially understand how do we draw them by changing the threshold. \n",
    "    - AUC: how do you compare two different classification algorithm by AUC?\n",
    "    - What is imbalanced dataset? What are the techniques to solve this problem? Especially SMOTE."
   ]
  }
 ],
 "metadata": {
  "kernelspec": {
   "display_name": "Python 3",
   "language": "python",
   "name": "python3"
  },
  "language_info": {
   "codemirror_mode": {
    "name": "ipython",
    "version": 3
   },
   "file_extension": ".py",
   "mimetype": "text/x-python",
   "name": "python",
   "nbconvert_exporter": "python",
   "pygments_lexer": "ipython3",
   "version": "3.7.3"
  },
  "toc": {
   "base_numbering": 1,
   "nav_menu": {},
   "number_sections": true,
   "sideBar": true,
   "skip_h1_title": false,
   "title_cell": "Table of Contents",
   "title_sidebar": "Contents",
   "toc_cell": false,
   "toc_position": {},
   "toc_section_display": true,
   "toc_window_display": false
  }
 },
 "nbformat": 4,
 "nbformat_minor": 2
}
