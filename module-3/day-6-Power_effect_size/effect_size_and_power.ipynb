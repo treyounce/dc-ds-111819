{
 "cells": [
  {
   "cell_type": "markdown",
   "metadata": {},
   "source": [
    "> What's wrong with (hypothesis significance testing)? Well, among many other things, it does not tell us what we want to know, and we so much want to know what we want to know that, out of desperation, we nevertheless believe that it does! - Cohen\n",
    "\n",
    "__Note__ For this notebook I follow the discussion made in R.R.Pagano, 'Understanding the Statistics in Behaviour Sciences.'\n",
    "\n",
    "# Effect Size\n",
    "\n",
    "## Size of Effect: Significant vs Important \n",
    "\n",
    "Q: Consider the case where we analyzed the results of an social experiment with an hypothesis testing. Suppose at the end we concluded that the results are significant. What do we really mean by this?"
   ]
  },
  {
   "cell_type": "markdown",
   "metadata": {},
   "source": [
    "Let's try to explain what we mean: \n",
    "\n",
    "\n",
    "__Scenerio__: Are SAT-Math scores at one college greater than the known population mean of 500?\n",
    "\n",
    "Data are collected from a random sample of 1,200 students at that college. The population standard deviation unknown. Find a one-sample mean test and determine p_value. Then determine whether null hypothesis should be rejected ($\\alpha = 0.05$).\n",
    "\n",
    "-  Write alternative hypothesis here (use one sided altenative hypothesis)\n"
   ]
  },
  {
   "cell_type": "code",
   "execution_count": 1,
   "metadata": {},
   "outputs": [],
   "source": [
    "## use this pickled object to run the \n",
    "## hypothesis testing\n",
    "\n",
    "import numpy as np\n",
    "\n",
    "from scipy import stats\n",
    "\n",
    "import pickle\n",
    "\n",
    "with open('sample1.pickle', 'rb') as handle:\n",
    "    sample = pickle.load(handle)"
   ]
  },
  {
   "cell_type": "code",
   "execution_count": 2,
   "metadata": {},
   "outputs": [
    {
     "data": {
      "text/plain": [
       "508.3923958670853"
      ]
     },
     "execution_count": 2,
     "metadata": {},
     "output_type": "execute_result"
    }
   ],
   "source": [
    "sample.mean()"
   ]
  },
  {
   "cell_type": "code",
   "execution_count": 3,
   "metadata": {},
   "outputs": [],
   "source": [
    "# %load -r 1-22 supplement.py\n",
    "#population mean\n",
    "mu = 500\n",
    "\n",
    "# let's find the sample mean\n",
    "x_bar = sample.mean()\n",
    "\n",
    "# know let's find the standard error\n",
    "# note that we don't know the population standard deviation\n",
    "# so instead we will use sample standard deviation as an estimator\n",
    "\n",
    "s = sample.std(ddof = 1)/np.sqrt(len(sample))\n",
    "\n",
    "# know we will find a t-score by dividing the difference in means\n",
    "# with standard error\n",
    "\n",
    "t = (x_bar - mu)/s\n",
    "\n",
    "# note that we know that t-score should lie on a t-distribution with\n",
    "# degrees of freedom len(sample) - 1 as the parameter.\n",
    "# let's use t method from scipy.stats\n",
    "\n",
    "p_value = stats.t.sf(t, df = len(sample) - 1)"
   ]
  },
  {
   "cell_type": "code",
   "execution_count": 4,
   "metadata": {},
   "outputs": [
    {
     "data": {
      "text/plain": [
       "Ttest_1sampResult(statistic=2.8971592990279116, pvalue=0.003834009139611028)"
      ]
     },
     "execution_count": 4,
     "metadata": {},
     "output_type": "execute_result"
    }
   ],
   "source": [
    "stats.ttest_1samp(sample, popmean= 500)"
   ]
  },
  {
   "cell_type": "code",
   "execution_count": 5,
   "metadata": {
    "scrolled": true
   },
   "outputs": [
    {
     "name": "stdout",
     "output_type": "stream",
     "text": [
      "t-statistics: 2.897\n",
      "p_value is 0.002\n"
     ]
    }
   ],
   "source": [
    "print(\"\"\"t-statistics: %.3f\n",
    "p_value is %.3f\"\"\"%(t, p_value))"
   ]
  },
  {
   "cell_type": "code",
   "execution_count": 6,
   "metadata": {},
   "outputs": [
    {
     "data": {
      "text/plain": [
       "0.0038340091396110187"
      ]
     },
     "execution_count": 6,
     "metadata": {},
     "output_type": "execute_result"
    }
   ],
   "source": [
    "p_value*2"
   ]
  },
  {
   "cell_type": "markdown",
   "metadata": {},
   "source": [
    "## Cohen's D for measuring effect size\n",
    "\n",
    "It looks like there is a statistically significant difference in the exam scores between our sample and the population. Now question is this difference important?\n",
    "\n",
    "-  Cohen(1988) gave a very simple method for determining the magnitude of the importance.\n",
    "\n",
    "__Case 1:__ When we know the population std!\n",
    "\n",
    "$$ d = \\frac{|\\bar{x} - \\mu |}{\\sigma} $$\n",
    "\n",
    "- $\\bar{x}$ sample mean\n",
    "- $\\mu$ population mean\n",
    "- $\\sigma$ population standard deviation\n",
    "- $|\\cdot|$ absolute value\n",
    "\n",
    "!! Wait a minute is this the same with z-score?\n",
    "\n",
    "__Case 2:__ When the population mean is not available!\n",
    "\n",
    "$$ d = \\frac{|\\bar{x} - \\mu |}{s} $$\n",
    "\n",
    "\n",
    "- $\\bar{x}$ sample mean\n",
    "- $\\mu$ population mean\n",
    "- $s$ sample standard deviation\n",
    "\n",
    "\n",
    "<table>\n",
    "  <tr>\n",
    "    <th>Header value of $d$</th>\n",
    "    <th>Header interpretation of d</th>\n",
    "  </tr>\n",
    "  <tr>\n",
    "    <td>0.0 - 0.20</td>\n",
    "    <td>small effect</td>\n",
    "  </tr>\n",
    "  <tr>\n",
    "    <td>0.20 - 0.79</td>\n",
    "    <td> medium effect</td>\n",
    "  </tr>\n",
    "    <tr>\n",
    "    <td>$\\geq$ 0.80</td>\n",
    "    <td> large effect</td>\n",
    "  </tr>\n",
    "</table>\n",
    "\n",
    "\n",
    "__Your turn__ Find the Cohen's d score for the following problem."
   ]
  },
  {
   "cell_type": "code",
   "execution_count": 13,
   "metadata": {},
   "outputs": [
    {
     "name": "stdout",
     "output_type": "stream",
     "text": [
      "0.08363378505894961\n"
     ]
    }
   ],
   "source": [
    "d = (sample.mean() - 500)/sample.std(ddof =1)\n",
    "print(d)"
   ]
  },
  {
   "cell_type": "markdown",
   "metadata": {},
   "source": [
    "## Effect size for two independent samples\n",
    "\n",
    "- Recall that to test whether the mean populations of two samples are equal or not we mainly use two tests:\n",
    "\n",
    "1. Independent two sample t-test \n",
    "\n",
    "<img src=\"img/two_sample_ttest.png\" alt=\"Cohen's d-table\"\n",
    "\ttitle=\"Power of a test\" width=\"650\" />\n",
    "\n",
    "\n",
    "<img src=\"img/pooled_std.png\" alt=\"Cohen's d-table\"\n",
    "\ttitle=\"Power of a test\" width=\"650\" />\n",
    "    \n",
    "- Note that this version of the t-test assumes that the population standard deviations for the samples $\\sigma_{1}$ and $\\sigma_{2}$ are the same.\n",
    "\n",
    "- Unfortunately this is not very realistic assumption most of the time. In that sense, it is suggested to use Welch's test instead of two sample t-test.\n",
    "\n",
    "\n",
    "__Your Turn!__\n",
    "\n",
    "- Load the following samples and determine whether they come from populations with the same means.\n",
    "\n",
    "- Use both two-sample t-test and Welch's test and compare the results.\n",
    "\n",
    "\n",
    "$H_{0}:$ $\\mu_{1} = \\mu_{2}$"
   ]
  },
  {
   "cell_type": "code",
   "execution_count": 40,
   "metadata": {},
   "outputs": [
    {
     "data": {
      "image/png": "[encoded data removed]",
      "text/plain": [
       "<Figure size 432x288 with 1 Axes>"
      ]
     },
     "metadata": {
      "needs_background": "light"
     },
     "output_type": "display_data"
    }
   ],
   "source": [
    "\n",
    "import matplotlib.pyplot as plt\n",
    "%matplotlib inline\n",
    "\n",
    "\n",
    "## Note that if samples would come from the populations with \n",
    "## same mean then the differences of the samples should normally\n",
    "## distribute around 0\n",
    "\n",
    "## here both mean and standard deviations of the \n",
    "## populations are the same\n",
    "\n",
    "\n",
    "l =[]\n",
    "for i in range(10000):\n",
    "    s1 = np.random.normal(loc = 100, scale = 5, size = 100)\n",
    "\n",
    "    s2 = np.random.normal(loc = 100, scale = 5, size = 100)\n",
    "\n",
    "    l.append(s1.mean() - s2.mean())\n",
    "    \n",
    "plt.hist(l)\n",
    "plt.show()"
   ]
  },
  {
   "cell_type": "code",
   "execution_count": 43,
   "metadata": {},
   "outputs": [
    {
     "data": {
      "image/png": "[encoded data removed]",
      "text/plain": [
       "<Figure size 432x288 with 1 Axes>"
      ]
     },
     "metadata": {
      "needs_background": "light"
     },
     "output_type": "display_data"
    }
   ],
   "source": [
    "## even if the population variances are different\n",
    "## if the population means are equal then\n",
    "## we can expect that the differences of the sample means \n",
    "## will have normal shape around zero\n",
    "\n",
    "l =[]\n",
    "for i in range(10000):\n",
    "    s1 = np.random.normal(loc = 100, scale = 10, size = 1000)\n",
    "\n",
    "    s2 = np.random.normal(loc = 100, scale = 5, size = 1000)\n",
    "\n",
    "    l.append(s1.mean() - s2.mean())\n",
    "\n",
    "plt.hist(l)\n",
    "plt.show()"
   ]
  },
  {
   "cell_type": "code",
   "execution_count": 52,
   "metadata": {},
   "outputs": [],
   "source": [
    "## Now let's work with the following samples\n",
    "\n",
    "sample1 = np.random.normal(loc = 100, scale = 10, size= 100)\n",
    "\n",
    "sample2 = np.random.normal(loc = 110, scale = 10, size  = 60)\n",
    "\n",
    "## note that we already know that the means are different. \n",
    "## In this case, please note that we can use two sample t-test"
   ]
  },
  {
   "cell_type": "markdown",
   "metadata": {},
   "source": [
    "We can implement the formula directly:"
   ]
  },
  {
   "cell_type": "code",
   "execution_count": 58,
   "metadata": {},
   "outputs": [
    {
     "name": "stdout",
     "output_type": "stream",
     "text": [
      "t-value is -4.2150440\n",
      "p_value is 0.0000419\n"
     ]
    }
   ],
   "source": [
    "# %load -r 25-35 supplement.py\n",
    "## two sample t-test assuming same population variance\n",
    "n1 = len(sample1)\n",
    "n2 = len(sample2)\n",
    "\n",
    "pooled_std = np.sqrt(((n1-1)*np.var(sample1, ddof =1) + (n2-1)*np.var(sample2, ddof = 1))/(n1+n2-2))\n",
    "\n",
    "denom = pooled_std*np.sqrt(1/n1 + 1/n2)\n",
    "\n",
    "num = sample1.mean() - sample2.mean()\n",
    "\n",
    "t = num/denom\n",
    "\n",
    "print(\"\"\"t-value is %.7f\"\"\"%t)\n",
    "\n",
    "## now we would use t-distribution with \n",
    "## degrees of freedom equals to n1+n2-2\n",
    "## to find the p_values of such t\n",
    "\n",
    "## we are using two sided hypothesis testing\n",
    "p_value = (stats.t.cdf(t,  df= n1+n2-2))*2\n",
    "\n",
    "print(\"\"\"p_value is %.7f\"\"\"%p_value)"
   ]
  },
  {
   "cell_type": "code",
   "execution_count": 59,
   "metadata": {},
   "outputs": [
    {
     "data": {
      "text/plain": [
       "Ttest_indResult(statistic=-4.215043982371335, pvalue=4.188364909654648e-05)"
      ]
     },
     "execution_count": 59,
     "metadata": {},
     "output_type": "execute_result"
    }
   ],
   "source": [
    "## Notice that we get the same result by \n",
    "## scipy.stats.ttest_ind\n",
    "\n",
    "stats.ttest_ind(sample1, sample2, equal_var= True)"
   ]
  },
  {
   "cell_type": "markdown",
   "metadata": {},
   "source": [
    "If we are not sure whether population variances are the same than we should use Welch's test.\n",
    "\n",
    "- To apply Welch's test: scipy.stats.ttest_ind has a parameter 'equal_var' when we set it equal to False."
   ]
  },
  {
   "cell_type": "code",
   "execution_count": 61,
   "metadata": {},
   "outputs": [],
   "source": [
    "##stats.ttest_ind(sample1,sample2, equal_var=False)"
   ]
  },
  {
   "cell_type": "markdown",
   "metadata": {},
   "source": [
    "Now let's discuss whether this difference is important or not.\n"
   ]
  },
  {
   "cell_type": "markdown",
   "metadata": {},
   "source": [
    "For some tests there are commonly used measures of effect size. For example, when comparing the difference in two means we often compute Cohen's d which is the difference between the two observed sample means in standard deviation units. \n",
    "\n",
    "$$ \\begin{gather}\n",
    " d = \\frac{|\\bar{x}_{1} - \\bar{x}_{2}|\n",
    " }{s_{W}}\n",
    "\\text{where} \\qquad s_{W} = \\sqrt{\\frac{(n_{1}-1)s_{1}^{2} + (n_{2}-1)s_{2}^{2} }{n_{1} + n_{2} - 2}}\n",
    "\\end{gather}$$\n",
    "\n",
    "__Your Turn!__\n",
    "\n",
    "Find Cohen's d for sample1 and sample2\n"
   ]
  },
  {
   "cell_type": "code",
   "execution_count": 37,
   "metadata": {},
   "outputs": [
    {
     "name": "stdout",
     "output_type": "stream",
     "text": [
      "1.607023128205021\n"
     ]
    }
   ],
   "source": [
    "n1 = len(sample1)\n",
    "n2 = len(sample2)\n",
    "var1 = np.var(sample1, ddof=1)\n",
    "var2 = np.var(sample2, ddof =1)\n",
    "\n",
    "num = (n1 -1 )*var1 + (n2-1)*var2\n",
    "\n",
    "denom = (n1+n2 - 2)\n",
    "s_W = np.sqrt(num/denom)\n",
    "\n",
    "d = np.abs(sample1.mean() - sample2.mean())/s_W\n",
    "\n",
    "print(d)"
   ]
  },
  {
   "cell_type": "markdown",
   "metadata": {},
   "source": [
    "Note that for small sample size we didn't get a significant result but for very big sample size we were able to show that the mean is significantly different from the population. So the take away is, we should support the use of p_values with other statistics."
   ]
  },
  {
   "cell_type": "markdown",
   "metadata": {},
   "source": [
    "\n",
    "# Power of an Hypothesis Testing\n",
    "\n",
    "- Recall $\\alpha$ is the probability of making Type-I error when the null hypothesis is true.\n",
    "\n",
    "- What about the the probability of making Type - II errors?\n",
    "\n",
    " - (We will call this probability as $\\beta$.)\n",
    " \n",
    "- Power of a statistical test measures an experiment's ability to reject a null-hypothesis when $H_{a}$ is true.\n",
    " \n",
    " Mathematically, the __power__ of an experiment is defined as the probability (1- $\\beta$) that the results of an experiment will allow rejection of the null hypothesis if the independent variable has a real effect.\n",
    "\n",
    "## Relationship between effect size and power\n",
    "\n",
    "- As effect size increases power increases.\n",
    "\n",
    "Let's try to understand this with and example. Suppose we are testing the following hypothesis:\n",
    "\n",
    "- $H_{0}$: The population mean of Class-1 (Class-2) is 38 or less. Equivalently: $\\mu_{1} \\leq 38$\n",
    "\n",
    "- $H_{a}$: The population mean of Class-1 (Class-2) is 38 or more. Equivalently $\\mu_{1} > 38$\n",
    "\n",
    "- significance level $\\alpha = 0.05$"
   ]
  },
  {
   "cell_type": "markdown",
   "metadata": {},
   "source": [
    "<table>\n",
    "  <tr>\n",
    "    <th>Data from Class 1</th>\n",
    "    <th>Data from Class 2</th>\n",
    "  </tr>\n",
    "  <tr>\n",
    "    <td>$\\mu_{1} = 38$</td>\n",
    "    <td> $\\mu_{2} = 38$</td>\n",
    "  </tr>\n",
    "  <tr>\n",
    "    <td>$\\bar{x}_{1} = 40$</td>\n",
    "    <td>$\\bar{x}_{2} = 40$</td>\n",
    "  </tr>\n",
    "  <tr>\n",
    "    <td>$\\sigma_{1} = 10$</td>\n",
    "    <td> $\\sigma_{2} =2$</td>\n",
    "  </tr>\n",
    "</table>\n",
    "\n",
    "__your turn:__ Effect size for the first population\n",
    "\n",
    "hint:0.20\n",
    "\n",
    "__your turn:__ Effect size for the second population\n",
    "\n",
    "hint: 1\n",
    "\n",
    "\n",
    "- Sampling distribution for the Class-1:\n",
    "\n",
    "$\\mu_{1}  = 38$\n",
    "\n",
    "standard_error = $\\frac{\\sigma_{1}}{\\sqrt{n}} = \\frac{10}{\\sqrt{30}}$\n",
    "\n",
    "- Sampling distribution for the Class-1:\n",
    "\n",
    "$\\mu_{1}  = 38$\n",
    "\n",
    "standard_error = $\\frac{\\sigma_{2}}{\\sqrt{n}}= \\frac{2}{\\sqrt{30}}$\n",
    "\n",
    "Now let's assume $\\alpha = 0.05$\n",
    "\n",
    "- Cut-off for the Class-1:\n",
    "\n"
   ]
  },
  {
   "cell_type": "code",
   "execution_count": null,
   "metadata": {},
   "outputs": [],
   "source": [
    "## note that after this z-score we have only 0.05 of the probability\n",
    "z_cut = stats.norm.ppf(0.95)\n",
    "\n",
    "## Above z_cut is for the standard normal distribution\n",
    "## convert it to our problem\n",
    "\n",
    "x1_bar = 38\n",
    "sigma1 = 10\n",
    "std_error = sigma1/np.sqrt(30)\n",
    "\n",
    "cut_off = z_cut*std_error + x1_bar\n",
    "\n",
    "print('cut-off for class 1 %.2f'%cut_off)\n"
   ]
  },
  {
   "cell_type": "markdown",
   "metadata": {},
   "source": [
    "Let's do the same calculation for class 2"
   ]
  },
  {
   "cell_type": "code",
   "execution_count": null,
   "metadata": {},
   "outputs": [],
   "source": [
    "## note that after this z-score we have only 0.05 of the probability\n",
    "z_cut = stats.norm.ppf(0.95)\n",
    "\n",
    "## Above z_cut is for the standard normal distribution\n",
    "## convert it to our problem\n",
    "\n",
    "x2_bar = 38\n",
    "sigma2 = 2\n",
    "std_error = sigma2/np.sqrt(30)\n",
    "\n",
    "cut_off = z_cut*std_error + x2_bar\n",
    "\n",
    "print('cut-off for class 1 %.2f'%cut_off)\n"
   ]
  },
  {
   "cell_type": "markdown",
   "metadata": {},
   "source": [
    "__Discuss these findings__\n",
    "\n",
    "## Power calculations\n",
    "\n",
    "\n",
    "<img src=\"img/power1.png\" alt=\"Cohen's d-table\"\n",
    "\ttitle=\"Power of a test\" width=\"650\" />\n",
    "\n",
    "\n",
    "<img src=\"img/power2.png\" alt=\"Cohen's d-table\"\n",
    "\ttitle=\"Power of a test\" width=\"650\" />\n"
   ]
  },
  {
   "cell_type": "markdown",
   "metadata": {},
   "source": [
    "## Sample size, $\\alpha$ and Power\n",
    "\n",
    "\n",
    "- Increasing sample size --> decreases the standard error --> power\n",
    "\n",
    "- $\\alpha:$ Probability of making Type-I error also it defines the rejection region.\n",
    "\n",
    "So the larger the rejection region it is more likely that we will reject the null hypothesis. Therefore:\n",
    "\n",
    "Increasing $\\alpha$ --> increases power."
   ]
  },
  {
   "cell_type": "markdown",
   "metadata": {},
   "source": [
    "## Resources\n",
    "\n",
    "- Null Hypothesis Significance Testing: A Review of an Old and Continuing Controversy - RS Nickerson\n",
    "\n",
    "- [Penn State Statistics Courses](https://newonlinecourses.science.psu.edu/stat200/lesson/6/6.4)\n",
    "\n",
    "- [Statistics For Business and Economics - 9.6](https://www.amazon.com/Statistics-Business-Economics-Book-Only/dp/0324783256)\n",
    "\n",
    "- [G. Privitera, Statistics for Behavioral Sciences - ch-8](https://www.amazon.com/Statistics-Behavioral-Sciences-Gregory-Privitera/dp/1506386253)"
   ]
  }
 ],
 "metadata": {
  "kernelspec": {
   "display_name": "Python 3",
   "language": "python",
   "name": "python3"
  },
  "language_info": {
   "codemirror_mode": {
    "name": "ipython",
    "version": 3
   },
   "file_extension": ".py",
   "mimetype": "text/x-python",
   "name": "python",
   "nbconvert_exporter": "python",
   "pygments_lexer": "ipython3",
   "version": "3.7.3"
  },
  "toc": {
   "base_numbering": 1,
   "nav_menu": {},
   "number_sections": true,
   "sideBar": true,
   "skip_h1_title": false,
   "title_cell": "Table of Contents",
   "title_sidebar": "Contents",
   "toc_cell": false,
   "toc_position": {},
   "toc_section_display": true,
   "toc_window_display": false
  }
 },
 "nbformat": 4,
 "nbformat_minor": 2
}
