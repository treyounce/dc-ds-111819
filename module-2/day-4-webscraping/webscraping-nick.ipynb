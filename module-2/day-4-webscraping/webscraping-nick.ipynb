{
 "cells": [
  {
   "cell_type": "markdown",
   "metadata": {},
   "source": [
    "# Python Web Scraping Tutorial using BeautifulSoup"
   ]
  },
  {
   "cell_type": "markdown",
   "metadata": {},
   "source": [
    "## The components of a web page\n"
   ]
  },
  {
   "cell_type": "markdown",
   "metadata": {},
   "source": [
    "When we visit a web page, our web browser makes a GET request to a web server. The server then sends back files that tell our browser how to render the page for us. The files fall into a few main types:\n",
    "\n",
    "- HTML — contain the main content of the page.\n",
    "- CSS — add styling to make the page look nicer.\n",
    "- JS — Javascript files add interactivity to web pages.\n",
    "- Images — image formats, such as JPG and PNG allow web pages to show pictures.\n",
    "\n",
    "After our browser receives all the files, it renders the page and displays it to us. There’s a lot that happens behind the scenes to render a page nicely, but we don’t need to worry about most of it when we’re web scraping."
   ]
  },
  {
   "cell_type": "markdown",
   "metadata": {},
   "source": [
    "### HTML\n",
    "\n",
    "\n",
    "HyperText Markup Language (HTML) is a language that web pages are created in. HTML isn’t a programming language, like Python — instead, it’s a markup language that tells a browser how to layout content. \n",
    "\n",
    "Let’s take a quick tour through HTML so we know enough to scrape effectively. HTML consists of elements called tags. The most basic tag is the `<html>` tag. This tag tells the web browser that everything inside of it is HTML. We can make a simple HTML document just using this tag:\n",
    "\n",
    "~~~\n",
    "<html>\n",
    "</html>\n",
    "~~~"
   ]
  },
  {
   "cell_type": "markdown",
   "metadata": {},
   "source": [
    "<html>\n",
    "</html>"
   ]
  },
  {
   "cell_type": "markdown",
   "metadata": {},
   "source": [
    "Right inside an html tag, we put two other tags, the head tag, and the body tag. The main content of the web page goes into the body tag. The head tag contains data about the title of the page, and other information that generally isn’t useful in web scraping:\n",
    "\n",
    "~~~\n",
    "<html>\n",
    "    <head>\n",
    "    </head>\n",
    "    <body>\n",
    "    </body>\n",
    "</html>\n",
    "~~~"
   ]
  },
  {
   "cell_type": "markdown",
   "metadata": {},
   "source": [
    "We’ll now add our first content to the page, in the form of the p tag. The p tag defines a paragraph, and any text inside the tag is shown as a separate paragraph:\n",
    "~~~\n",
    "<html>\n",
    "    <head>\n",
    "    </head>\n",
    "    <body>\n",
    "          <p>\n",
    "            Here's a paragraph of text!\n",
    "        </p>\n",
    "        <p>\n",
    "            Here's a second paragraph of text!\n",
    "        </p>\n",
    "    </body>\n",
    "</html>\n",
    "~~~"
   ]
  },
  {
   "cell_type": "markdown",
   "metadata": {},
   "source": [
    "<html>\n",
    "    <head>\n",
    "    </head>\n",
    "    <body>\n",
    "          <p>\n",
    "            Here's a paragraph of text!\n",
    "        </p>\n",
    "        <p>\n",
    "            Here's a second paragraph of text!\n",
    "        </p>\n",
    "    </body>\n",
    "</html>"
   ]
  },
  {
   "cell_type": "markdown",
   "metadata": {},
   "source": [
    "Tags have commonly used names that depend on their position in relation to other tags:\n",
    "\n",
    "- **child** — a child is a tag inside another tag. So the two p tags above are both children of the body tag.\n",
    "- **parent** — a parent is the tag another tag is inside. Above, the html tag is the parent of the body tag.\n",
    "- **sibiling** — a sibiling is a tag that is nested inside the same parent as another tag. For example, head and body are siblings, since they’re both inside html. Both p tags are siblings, since they’re both inside body."
   ]
  },
  {
   "cell_type": "markdown",
   "metadata": {},
   "source": [
    "We can also add properties to HTML tags that change their behavior:\n",
    "\n",
    "~~~\n",
    "<html>\n",
    "  <head>\n",
    "  </head>\n",
    "    <body>\n",
    "      <p>\n",
    "        Here's a paragraph of text!\n",
    "        <a href=\"https://www.dataquest.io\">Learn Data Science Online</a>\n",
    "        </p>\n",
    "        <p>\n",
    "          Here's a second paragraph of text!\n",
    "          <a href=\"https://www.python.org\">Python</a>        \n",
    "        </p>\n",
    "    </body>\n",
    "</html>\n",
    "~~~"
   ]
  },
  {
   "cell_type": "markdown",
   "metadata": {},
   "source": [
    "<html>\n",
    "    <head>\n",
    "    </head>\n",
    "    <body>\n",
    "        <p>\n",
    "            Here's a paragraph of text!\n",
    "            <a href=\"https://www.dataquest.io\">Learn Data Science Online</a>\n",
    "        </p>\n",
    "        <p>\n",
    "            Here's a second paragraph of text!\n",
    "            <a href=\"https://www.python.org\">Python</a>        </p>\n",
    "    </body></html>"
   ]
  },
  {
   "cell_type": "markdown",
   "metadata": {},
   "source": [
    "In the above example, we added two a tags. a tags are links, and tell the browser to render a link to another web page. The href property of the tag determines where the link goes.\n",
    "\n",
    "a and p are extremely common html tags. Here are a few others:\n",
    "\n",
    "- *div* — indicates a division, or area, of the page.\n",
    "- *b* — bolds any text inside.\n",
    "- *i* — italicizes any text inside.\n",
    "- *table* — creates a table.\n",
    "- *form* — creates an input form.\n",
    "\n",
    "\n",
    "For a full list of tags, look [here](https://developer.mozilla.org/en-US/docs/Web/HTML/Element)."
   ]
  },
  {
   "cell_type": "markdown",
   "metadata": {},
   "source": [
    "There are two special properties give HTML elements names, and make them easier to interact with when we’re scraping, **class** and **id** properties. \n",
    "\n",
    "- One element can have multiple classes, and a class can be shared between elements. \n",
    "- Each element can only have one id, and an id can only be used once on a page. \n",
    "- Classes and ids are optional, and not all elements will have them.\n",
    "\n",
    "We can add classes and ids to our example:\n",
    "\n",
    "~~~\n",
    "<html>\n",
    "    <head>\n",
    "    </head>\n",
    "    <body>\n",
    "        <p class=\"bold-paragraph\">\n",
    "            Here's a paragraph of text!\n",
    "            <a href=\"https://www.dataquest.io\" id=\"learn-link\">Learn Data Science Online</a>\n",
    "        </p>\n",
    "        <p class=\"bold-paragraph extra-large\">\n",
    "            Here's a second paragraph of text!\n",
    "            <a href=\"https://www.python.org\" class=\"extra-large\">Python</a>\n",
    "        </p>\n",
    "    </body>\n",
    "</html>\n",
    "~~~"
   ]
  },
  {
   "cell_type": "markdown",
   "metadata": {},
   "source": [
    "<html>\n",
    "    <head>\n",
    "    </head>\n",
    "    <body>\n",
    "        <p class=\"bold-paragraph\">\n",
    "            Here's a paragraph of text!\n",
    "            <a href=\"https://www.dataquest.io\" id=\"learn-link\">Learn Data Science Online</a>\n",
    "        </p>\n",
    "        <p class=\"bold-paragraph extra-large\">\n",
    "            Here's a second paragraph of text!\n",
    "            <a href=\"https://www.python.org\" class=\"extra-large\">Python</a>\n",
    "        </p>\n",
    "    </body>\n",
    "</html>"
   ]
  },
  {
   "cell_type": "markdown",
   "metadata": {},
   "source": [
    "## Apply this knowledge\n",
    "\n",
    "Let's go to a webpage and change some of the HTML to see what happens. \n",
    "\n",
    "- Open up a webpage in Chrome.\n",
    "- Right click and 'inspect element.\n",
    "\n",
    "- Change the text in a tag.\n",
    "- Change the class of a tag.\n",
    "- Find a tag with an ID and remove it.\n",
    "\n"
   ]
  },
  {
   "cell_type": "markdown",
   "metadata": {},
   "source": [
    "## Webscraping with Python"
   ]
  },
  {
   "cell_type": "markdown",
   "metadata": {},
   "source": [
    "### The requests library\n",
    "The first thing we’ll need to do to scrape a web page is to download the page. We can download pages using the Python requests library."
   ]
  },
  {
   "cell_type": "code",
   "execution_count": 1,
   "metadata": {},
   "outputs": [
    {
     "data": {
      "text/plain": [
       "<Response [200]>"
      ]
     },
     "execution_count": 1,
     "metadata": {},
     "output_type": "execute_result"
    }
   ],
   "source": [
    "import requests\n",
    "page = requests.get(\"http://dataquestio.github.io/web-scraping-pages/simple.html\")\n",
    "page"
   ]
  },
  {
   "cell_type": "markdown",
   "metadata": {},
   "source": [
    "We can print out the HTML content of the page using the content property:"
   ]
  },
  {
   "cell_type": "code",
   "execution_count": 2,
   "metadata": {},
   "outputs": [
    {
     "data": {
      "text/plain": [
       "b'<!DOCTYPE html>\\n<html>\\n    <head>\\n        <title>A simple example page</title>\\n    </head>\\n    <body>\\n        <p>Here is some simple content for this page.</p>\\n    </body>\\n</html>'"
      ]
     },
     "execution_count": 2,
     "metadata": {},
     "output_type": "execute_result"
    }
   ],
   "source": [
    "page.content"
   ]
  },
  {
   "cell_type": "markdown",
   "metadata": {},
   "source": [
    "### Parsing a page with BeautifulSoup\n",
    "\n",
    "We can use the BeautifulSoup library to parse this document, and extract the text from the `<p>` tag. "
   ]
  },
  {
   "cell_type": "code",
   "execution_count": 7,
   "metadata": {},
   "outputs": [
    {
     "data": {
      "text/plain": [
       "<!DOCTYPE html>\n",
       "\n",
       "<html>\n",
       "<head>\n",
       "<title>A simple example page</title>\n",
       "</head>\n",
       "<body>\n",
       "<p>Here is some simple content for this page.</p>\n",
       "</body>\n",
       "</html>"
      ]
     },
     "execution_count": 7,
     "metadata": {},
     "output_type": "execute_result"
    }
   ],
   "source": [
    "from bs4 import BeautifulSoup\n",
    "soup = BeautifulSoup(page.content, 'html.parser')\n",
    "soup"
   ]
  },
  {
   "cell_type": "code",
   "execution_count": 5,
   "metadata": {},
   "outputs": [
    {
     "data": {
      "text/plain": [
       "bs4.BeautifulSoup"
      ]
     },
     "execution_count": 5,
     "metadata": {},
     "output_type": "execute_result"
    }
   ],
   "source": [
    "type(soup)"
   ]
  },
  {
   "cell_type": "code",
   "execution_count": 8,
   "metadata": {},
   "outputs": [
    {
     "name": "stdout",
     "output_type": "stream",
     "text": [
      "<!DOCTYPE html>\n",
      "<html>\n",
      " <head>\n",
      "  <title>\n",
      "   A simple example page\n",
      "  </title>\n",
      " </head>\n",
      " <body>\n",
      "  <p>\n",
      "   Here is some simple content for this page.\n",
      "  </p>\n",
      " </body>\n",
      "</html>\n"
     ]
    }
   ],
   "source": [
    "print(soup.prettify())\n"
   ]
  },
  {
   "cell_type": "markdown",
   "metadata": {},
   "source": [
    "As all the tags are nested, we can move through the structure one level at a time. We can first select all the elements at the top level of the page using the `children` property of `soup`."
   ]
  },
  {
   "cell_type": "code",
   "execution_count": 11,
   "metadata": {},
   "outputs": [
    {
     "data": {
      "text/plain": [
       "['html', '\\n', <html>\n",
       " <head>\n",
       " <title>A simple example page</title>\n",
       " </head>\n",
       " <body>\n",
       " <p>Here is some simple content for this page.</p>\n",
       " </body>\n",
       " </html>]"
      ]
     },
     "execution_count": 11,
     "metadata": {},
     "output_type": "execute_result"
    }
   ],
   "source": [
    "list(soup.children)\n"
   ]
  },
  {
   "cell_type": "markdown",
   "metadata": {},
   "source": [
    "The above tells us that there are two tags at the top level of the page — the initial `<!DOCTYPE html>` tag, and the `<html>` tag. There is a newline character `(\\n)` in the list as well. Let’s see what the type of each element in the list is:"
   ]
  },
  {
   "cell_type": "code",
   "execution_count": 12,
   "metadata": {},
   "outputs": [
    {
     "data": {
      "text/plain": [
       "[bs4.element.Doctype, bs4.element.NavigableString, bs4.element.Tag]"
      ]
     },
     "execution_count": 12,
     "metadata": {},
     "output_type": "execute_result"
    }
   ],
   "source": [
    "[type(item) for item in list(soup.children)]\n"
   ]
  },
  {
   "cell_type": "markdown",
   "metadata": {},
   "source": [
    "The `Tag` object allows us to navigate through an HTML document, and extract other tags and text. You can learn more about the various `BeautifulSoup` objects [here](https://www.crummy.com/software/BeautifulSoup/bs4/doc/#kinds-of-objects).\n",
    "\n",
    "We can now select the html tag and its children by taking the third item in the list:\n",
    "\n"
   ]
  },
  {
   "cell_type": "code",
   "execution_count": 15,
   "metadata": {},
   "outputs": [],
   "source": [
    "html = list(soup.children)[2]\n"
   ]
  },
  {
   "cell_type": "code",
   "execution_count": 16,
   "metadata": {},
   "outputs": [
    {
     "data": {
      "text/plain": [
       "<html>\n",
       "<head>\n",
       "<title>A simple example page</title>\n",
       "</head>\n",
       "<body>\n",
       "<p>Here is some simple content for this page.</p>\n",
       "</body>\n",
       "</html>"
      ]
     },
     "execution_count": 16,
     "metadata": {},
     "output_type": "execute_result"
    }
   ],
   "source": [
    "html"
   ]
  },
  {
   "cell_type": "markdown",
   "metadata": {},
   "source": [
    "Each item in the list returned by the `children` property is also a `BeautifulSoup` object, so we can also call the `children` method on `html`.\n",
    "\n",
    "Now, we can find the `children` inside the `html` tag:"
   ]
  },
  {
   "cell_type": "code",
   "execution_count": 17,
   "metadata": {},
   "outputs": [
    {
     "data": {
      "text/plain": [
       "['\\n', <head>\n",
       " <title>A simple example page</title>\n",
       " </head>, '\\n', <body>\n",
       " <p>Here is some simple content for this page.</p>\n",
       " </body>, '\\n']"
      ]
     },
     "execution_count": 17,
     "metadata": {},
     "output_type": "execute_result"
    }
   ],
   "source": [
    "list(html.children)\n"
   ]
  },
  {
   "cell_type": "markdown",
   "metadata": {},
   "source": [
    "As you can see above, there are two tags here, `head`, and `body`. We want to extract the text inside the `p` tag, so we’ll dive into the body:"
   ]
  },
  {
   "cell_type": "code",
   "execution_count": 18,
   "metadata": {},
   "outputs": [],
   "source": [
    "body = list(html.children)[3]\n"
   ]
  },
  {
   "cell_type": "code",
   "execution_count": 19,
   "metadata": {},
   "outputs": [
    {
     "data": {
      "text/plain": [
       "<body>\n",
       "<p>Here is some simple content for this page.</p>\n",
       "</body>"
      ]
     },
     "execution_count": 19,
     "metadata": {},
     "output_type": "execute_result"
    }
   ],
   "source": [
    "body"
   ]
  },
  {
   "cell_type": "markdown",
   "metadata": {},
   "source": [
    "We can now isolate the `p` tag:\n",
    "\n"
   ]
  },
  {
   "cell_type": "code",
   "execution_count": 20,
   "metadata": {},
   "outputs": [],
   "source": [
    "p = list(body.children)[1]\n"
   ]
  },
  {
   "cell_type": "code",
   "execution_count": 24,
   "metadata": {},
   "outputs": [
    {
     "data": {
      "text/plain": [
       "<p>Here is some simple content for this page.</p>"
      ]
     },
     "execution_count": 24,
     "metadata": {},
     "output_type": "execute_result"
    }
   ],
   "source": [
    "p"
   ]
  },
  {
   "cell_type": "markdown",
   "metadata": {},
   "source": [
    "Once we’ve isolated the tag, we can use the `get_text` method to extract all of the text inside the tag:"
   ]
  },
  {
   "cell_type": "code",
   "execution_count": 25,
   "metadata": {},
   "outputs": [
    {
     "data": {
      "text/plain": [
       "'Here is some simple content for this page.'"
      ]
     },
     "execution_count": 25,
     "metadata": {},
     "output_type": "execute_result"
    }
   ],
   "source": [
    "p.get_text()\n"
   ]
  },
  {
   "cell_type": "markdown",
   "metadata": {},
   "source": [
    "### Finding all instances of a tag at once\n",
    "\n",
    "If we want to extract a single tag, we can instead use the find_all method, which will find all the instances of a tag on a page."
   ]
  },
  {
   "cell_type": "code",
   "execution_count": 28,
   "metadata": {},
   "outputs": [
    {
     "data": {
      "text/plain": [
       "[<p>Here is some simple content for this page.</p>]"
      ]
     },
     "execution_count": 28,
     "metadata": {},
     "output_type": "execute_result"
    }
   ],
   "source": [
    "soup = BeautifulSoup(page.content, 'html.parser')\n",
    "soup.find_all('p')"
   ]
  },
  {
   "cell_type": "markdown",
   "metadata": {},
   "source": [
    "Note that `find_all` returns a list, so we’ll have to loop through, or use list indexing, it to extract text:"
   ]
  },
  {
   "cell_type": "code",
   "execution_count": 29,
   "metadata": {},
   "outputs": [
    {
     "data": {
      "text/plain": [
       "'Here is some simple content for this page.'"
      ]
     },
     "execution_count": 29,
     "metadata": {},
     "output_type": "execute_result"
    }
   ],
   "source": [
    "soup.find_all('p')[0].get_text()\n"
   ]
  },
  {
   "cell_type": "markdown",
   "metadata": {},
   "source": [
    "If you instead only want to find the first instance of a tag, you can use the `find` method, which will return a single `BeautifulSoup` object:"
   ]
  },
  {
   "cell_type": "code",
   "execution_count": 30,
   "metadata": {},
   "outputs": [
    {
     "data": {
      "text/plain": [
       "<p>Here is some simple content for this page.</p>"
      ]
     },
     "execution_count": 30,
     "metadata": {},
     "output_type": "execute_result"
    }
   ],
   "source": [
    "soup.find('p')\n"
   ]
  },
  {
   "cell_type": "markdown",
   "metadata": {},
   "source": [
    "### Searching for tags by class and id\n",
    "\n",
    "\n",
    "We introduced classes and ids earlier, but it probably wasn’t clear why they were useful. Classes and ids are used by CSS to determine which HTML elements to apply certain styles to. We can also use them when scraping to specify specific elements we want to scrape. Let's look at the following page:\n",
    "\n",
    "~~~\n",
    "<html>\n",
    "    <head>\n",
    "        <title>A simple example page</title>\n",
    "    </head>\n",
    "    <body>\n",
    "        <div>\n",
    "            <p class=\"inner-text first-item\" id=\"first\">\n",
    "                First paragraph.\n",
    "            </p>\n",
    "            <p class=\"inner-text\">\n",
    "                Second paragraph.\n",
    "            </p>\n",
    "        </div>\n",
    "        <p class=\"outer-text first-item\" id=\"second\">\n",
    "            <b>\n",
    "                First outer paragraph.\n",
    "            </b>\n",
    "        </p>\n",
    "        <p class=\"outer-text\">\n",
    "            <b>\n",
    "                Second outer paragraph.\n",
    "            </b>\n",
    "        </p>\n",
    "    </body>\n",
    "</html>\n",
    "~~~"
   ]
  },
  {
   "cell_type": "code",
   "execution_count": 32,
   "metadata": {},
   "outputs": [
    {
     "data": {
      "text/plain": [
       "<html>\n",
       "<head>\n",
       "<title>A simple example page</title>\n",
       "</head>\n",
       "<body>\n",
       "<div>\n",
       "<p class=\"inner-text first-item\" id=\"first\">\n",
       "                First paragraph.\n",
       "            </p>\n",
       "<p class=\"inner-text\">\n",
       "                Second paragraph.\n",
       "            </p>\n",
       "</div>\n",
       "<p class=\"outer-text first-item\" id=\"second\">\n",
       "<b>\n",
       "                First outer paragraph.\n",
       "            </b>\n",
       "</p>\n",
       "<p class=\"outer-text\">\n",
       "<b>\n",
       "                Second outer paragraph.\n",
       "            </b>\n",
       "</p>\n",
       "</body>\n",
       "</html>"
      ]
     },
     "execution_count": 32,
     "metadata": {},
     "output_type": "execute_result"
    }
   ],
   "source": [
    "page = requests.get(\"http://dataquestio.github.io/web-scraping-pages/ids_and_classes.html\")\n",
    "soup = BeautifulSoup(page.content, 'lxml')\n",
    "soup"
   ]
  },
  {
   "cell_type": "markdown",
   "metadata": {},
   "source": [
    "Now, we can use the `find_all` method to search for items by class or by id. In the below example, we’ll search for any `p` tag that has the class `outer-text`:"
   ]
  },
  {
   "cell_type": "code",
   "execution_count": 36,
   "metadata": {},
   "outputs": [
    {
     "data": {
      "text/plain": [
       "[<p class=\"outer-text first-item\" id=\"second\">\n",
       " <b>\n",
       "                 First outer paragraph.\n",
       "             </b>\n",
       " </p>, <p class=\"outer-text\">\n",
       " <b>\n",
       "                 Second outer paragraph.\n",
       "             </b>\n",
       " </p>]"
      ]
     },
     "execution_count": 36,
     "metadata": {},
     "output_type": "execute_result"
    }
   ],
   "source": [
    "soup.find_all('p', class_='outer-text')\n"
   ]
  },
  {
   "cell_type": "code",
   "execution_count": 39,
   "metadata": {},
   "outputs": [
    {
     "data": {
      "text/plain": [
       "[<p class=\"inner-text first-item\" id=\"first\">\n",
       "                 First paragraph.\n",
       "             </p>]"
      ]
     },
     "execution_count": 39,
     "metadata": {},
     "output_type": "execute_result"
    }
   ],
   "source": [
    "soup.find_all('p', attrs = {'id' : 'first'})"
   ]
  },
  {
   "cell_type": "markdown",
   "metadata": {},
   "source": [
    "In the below example, we’ll look for any tag that has the class `outer-text`:\n",
    "\n"
   ]
  },
  {
   "cell_type": "code",
   "execution_count": 40,
   "metadata": {},
   "outputs": [
    {
     "data": {
      "text/plain": [
       "[<p class=\"outer-text first-item\" id=\"second\">\n",
       " <b>\n",
       "                 First outer paragraph.\n",
       "             </b>\n",
       " </p>, <p class=\"outer-text\">\n",
       " <b>\n",
       "                 Second outer paragraph.\n",
       "             </b>\n",
       " </p>]"
      ]
     },
     "execution_count": 40,
     "metadata": {},
     "output_type": "execute_result"
    }
   ],
   "source": [
    "soup.find_all(class_=\"outer-text\")\n"
   ]
  },
  {
   "cell_type": "markdown",
   "metadata": {},
   "source": [
    "We can also search for elements by `id`:\n"
   ]
  },
  {
   "cell_type": "code",
   "execution_count": 41,
   "metadata": {},
   "outputs": [
    {
     "data": {
      "text/plain": [
       "[<p class=\"inner-text first-item\" id=\"first\">\n",
       "                 First paragraph.\n",
       "             </p>]"
      ]
     },
     "execution_count": 41,
     "metadata": {},
     "output_type": "execute_result"
    }
   ],
   "source": [
    "soup.find_all(id=\"first\")\n"
   ]
  },
  {
   "cell_type": "markdown",
   "metadata": {},
   "source": [
    "### Using CSS Selectors\n",
    "\n",
    "\n",
    "You can also search for items using CSS selectors. These selectors are how the CSS language allows developers to specify HTML tags to style. Here are some examples:\n",
    "\n",
    "- *p a* — finds all a tags inside of a p tag.\n",
    "- *body p a* — finds all a tags inside of a p tag inside of a body tag.\n",
    "- *html body* — finds all body tags inside of an html tag.\n",
    "- *p.outer-text* — finds all p tags with a class of outer-text.\n",
    "- *p#first* — finds all p tags with an id of first.\n",
    "- *body p.outer-text* — finds any p tags with a class of outer-text inside of a body tag."
   ]
  },
  {
   "cell_type": "markdown",
   "metadata": {},
   "source": [
    "`BeautifulSoup` objects support searching a page via CSS selectors using the `select` method. We can use CSS selectors to find all the `p` tags in our page that are inside of a `div` like this:"
   ]
  },
  {
   "cell_type": "code",
   "execution_count": 42,
   "metadata": {
    "scrolled": true
   },
   "outputs": [
    {
     "data": {
      "text/plain": [
       "[<p class=\"inner-text first-item\" id=\"first\">\n",
       "                 First paragraph.\n",
       "             </p>, <p class=\"inner-text\">\n",
       "                 Second paragraph.\n",
       "             </p>]"
      ]
     },
     "execution_count": 42,
     "metadata": {},
     "output_type": "execute_result"
    }
   ],
   "source": [
    "soup.select(\"div p\")\n"
   ]
  },
  {
   "cell_type": "code",
   "execution_count": 43,
   "metadata": {},
   "outputs": [
    {
     "data": {
      "text/plain": [
       "<p class=\"inner-text first-item\" id=\"first\">\n",
       "                First paragraph.\n",
       "            </p>"
      ]
     },
     "execution_count": 43,
     "metadata": {},
     "output_type": "execute_result"
    }
   ],
   "source": [
    "soup.select_one(\"div p\")"
   ]
  },
  {
   "cell_type": "markdown",
   "metadata": {},
   "source": [
    "Note that the `select` method above returns a list of `BeautifulSoup` objects, just like `find` and `find_all`."
   ]
  },
  {
   "cell_type": "code",
   "execution_count": 44,
   "metadata": {},
   "outputs": [
    {
     "data": {
      "text/plain": [
       "200"
      ]
     },
     "execution_count": 44,
     "metadata": {},
     "output_type": "execute_result"
    }
   ],
   "source": [
    "#headers = {'User-Agent': 'Mozilla/5.0 (Macintosh; Intel Mac OS X 10_14_6) AppleWebKit/537.36 (KHTML, like Gecko) Chrome/77.0.3865.120 Safari/537.36'}\n",
    "\n",
    "resp = requests.get('https://www.the-numbers.com/movie/budgets/all')#, headers=headers)\n",
    "\n",
    "resp.status_code"
   ]
  },
  {
   "cell_type": "code",
   "execution_count": 45,
   "metadata": {},
   "outputs": [],
   "source": [
    "import pandas as pd\n",
    "tables = pd.read_html(resp.content)"
   ]
  },
  {
   "cell_type": "code",
   "execution_count": 46,
   "metadata": {},
   "outputs": [
    {
     "data": {
      "text/plain": [
       "[    Unnamed: 0   ReleaseDate  \\\n",
       " 0            1  Apr 23, 2019   \n",
       " 1            2  May 20, 2011   \n",
       " 2            3  Apr 22, 2015   \n",
       " 3            4  Dec 16, 2015   \n",
       " 4            5  Apr 25, 2018   \n",
       " 5            6  May 24, 2007   \n",
       " 6            7  Nov 13, 2017   \n",
       " 7            8   Oct 6, 2015   \n",
       " 8            9  May 23, 2018   \n",
       " 9           10   Mar 7, 2012   \n",
       " 10          11  Mar 23, 2016   \n",
       " 11          12  Dec 13, 2017   \n",
       " 12          13  Nov 24, 2010   \n",
       " 13          14   May 4, 2007   \n",
       " 14          15  Apr 22, 2016   \n",
       " 15          16  Jul 15, 2009   \n",
       " 16          17  Dec 13, 2013   \n",
       " 17          18  Dec 10, 2014   \n",
       " 18          19   Apr 7, 2017   \n",
       " 19          20   Apr 8, 2020   \n",
       " 20          21  Dec 17, 2009   \n",
       " 21          22  Jun 28, 2006   \n",
       " 22          23  Jul 19, 2012   \n",
       " 23          24  May 23, 2017   \n",
       " 24          25  Nov 14, 2008   \n",
       " 25          26  Apr 25, 2012   \n",
       " 26          27   Jul 7, 2006   \n",
       " 27          28  Jun 14, 2013   \n",
       " 28          29  May 16, 2008   \n",
       " 29          30   Jul 2, 2013   \n",
       " ..         ...           ...   \n",
       " 70          71   Apr 1, 2015   \n",
       " 71          72  May 16, 2013   \n",
       " 72          73  Jun 19, 2013   \n",
       " 73          74  May 10, 2013   \n",
       " 74          75   Nov 6, 2009   \n",
       " 75          76  Jul 11, 2013   \n",
       " 76          77  Nov 25, 2015   \n",
       " 77          78   May 2, 2008   \n",
       " 78          79  Jul 18, 2008   \n",
       " 79          80  May 22, 2008   \n",
       " 80          81  Jun 21, 2012   \n",
       " 81          82  Feb 23, 2017   \n",
       " 82          83  Jul 21, 2016   \n",
       " 83          84  Oct 17, 2019   \n",
       " 84          85  Sep 29, 2017   \n",
       " 85          86  Oct 25, 2019   \n",
       " 86          87  May 22, 2019   \n",
       " 87          88  Oct 25, 2017   \n",
       " 88          89   Dec 9, 2005   \n",
       " 89          90  May 28, 2014   \n",
       " 90          91  Nov 14, 2016   \n",
       " 91          92  Jun 27, 2008   \n",
       " 92          93  Aug 10, 2007   \n",
       " 93          94  Jun 27, 2016   \n",
       " 94          95  Nov 23, 2011   \n",
       " 95          96  Jul 20, 2017   \n",
       " 96          97   Feb 6, 2015   \n",
       " 97          98  Jul 16, 2018   \n",
       " 98          99  May 18, 2016   \n",
       " 99         100   Aug 9, 2018   \n",
       " \n",
       "                                                 Movie ProductionBudget  \\\n",
       " 0                                   Avengers: Endgame     $400,000,000   \n",
       " 1         Pirates of the Caribbean: On Stranger Tides     $379,000,000   \n",
       " 2                             Avengers: Age of Ultron     $365,000,000   \n",
       " 3                Star Wars Ep. VII: The Force Awakens     $306,000,000   \n",
       " 4                              Avengers: Infinity War     $300,000,000   \n",
       " 5            Pirates of the Caribbean: At World’s End     $300,000,000   \n",
       " 6                                      Justice League     $300,000,000   \n",
       " 7                                             Spectre     $300,000,000   \n",
       " 8                             Solo: A Star Wars Story     $275,000,000   \n",
       " 9                                         John Carter     $263,700,000   \n",
       " 10                 Batman v Superman: Dawn of Justice     $263,000,000   \n",
       " 11                  Star Wars Ep. VIII: The Last Jedi     $262,000,000   \n",
       " 12                                            Tangled     $260,000,000   \n",
       " 13                                       Spider-Man 3     $258,000,000   \n",
       " 14                         Captain America: Civil War     $250,000,000   \n",
       " 15             Harry Potter and the Half-Blood Prince     $250,000,000   \n",
       " 16                The Hobbit: The Desolation of Smaug     $250,000,000   \n",
       " 17          The Hobbit: The Battle of the Five Armies     $250,000,000   \n",
       " 18                            The Fate of the Furious     $250,000,000   \n",
       " 19                                     No Time to Die     $250,000,000   \n",
       " 20                                             Avatar     $237,000,000   \n",
       " 21                                   Superman Returns     $232,000,000   \n",
       " 22                              The Dark Knight Rises     $230,000,000   \n",
       " 23   Pirates of the Caribbean: Dead Men Tell No Tales     $230,000,000   \n",
       " 24                                  Quantum of Solace     $230,000,000   \n",
       " 25                                       The Avengers     $225,000,000   \n",
       " 26         Pirates of the Caribbean: Dead Man’s Chest     $225,000,000   \n",
       " 27                                       Man of Steel     $225,000,000   \n",
       " 28           The Chronicles of Narnia: Prince Caspian     $225,000,000   \n",
       " 29                                    The Lone Ranger     $225,000,000   \n",
       " ..                                                ...              ...   \n",
       " 70                                          Furious 7     $190,000,000   \n",
       " 71                            Star Trek Into Darkness     $190,000,000   \n",
       " 72                                        World War Z     $190,000,000   \n",
       " 73                                   The Great Gatsby     $190,000,000   \n",
       " 74                         Disney’s A Christmas Carol     $190,000,000   \n",
       " 75                                        Pacific Rim     $190,000,000   \n",
       " 76                                  The Good Dinosaur     $187,500,000   \n",
       " 77                                           Iron Man     $186,000,000   \n",
       " 78                                    The Dark Knight     $185,000,000   \n",
       " 79  Indiana Jones and the Kingdom of the Crystal S...     $185,000,000   \n",
       " 80                                              Brave     $185,000,000   \n",
       " 81                                 Kong: Skull Island     $185,000,000   \n",
       " 82                                   Star Trek Beyond     $185,000,000   \n",
       " 83                       Maleficent: Mistress of Evil     $185,000,000   \n",
       " 84                                  Blade Runner 2049     $185,000,000   \n",
       " 85                              Terminator: Dark Fate     $185,000,000   \n",
       " 86                                            Aladdin     $182,000,000   \n",
       " 87                                     Thor: Ragnarok     $180,000,000   \n",
       " 88   The Chronicles of Narnia: The Lion, the Witch a…     $180,000,000   \n",
       " 89                                         Maleficent     $180,000,000   \n",
       " 90            Fantastic Beasts and Where to Find Them     $180,000,000   \n",
       " 91                                             WALL-E     $180,000,000   \n",
       " 92                                        Rush Hour 3     $180,000,000   \n",
       " 93                               The Legend of Tarzan     $180,000,000   \n",
       " 94                                               Hugo     $180,000,000   \n",
       " 95        Valerian and the City of a Thousand Planets     $180,000,000   \n",
       " 96                                  Jupiter Ascending     $179,000,000   \n",
       " 97                        Mission: Impossible—Fallout     $178,000,000   \n",
       " 98                                  X-Men: Apocalypse     $178,000,000   \n",
       " 99                                            The Meg     $178,000,000   \n",
       " \n",
       "    DomesticGross  WorldwideGross  \n",
       " 0   $858,373,000  $2,797,800,564  \n",
       " 1   $241,063,875  $1,045,663,875  \n",
       " 2   $459,005,868  $1,403,013,963  \n",
       " 3   $936,662,225  $2,068,223,624  \n",
       " 4   $678,815,482  $2,048,359,754  \n",
       " 5   $309,420,425    $963,420,425  \n",
       " 6   $229,024,295    $655,945,209  \n",
       " 7   $200,074,175    $879,620,923  \n",
       " 8   $213,767,512    $393,151,347  \n",
       " 9    $73,058,679    $282,778,100  \n",
       " 10  $330,360,194    $873,634,919  \n",
       " 11  $620,181,382  $1,332,539,889  \n",
       " 12  $200,821,936    $586,477,240  \n",
       " 13  $336,530,303    $894,860,230  \n",
       " 14  $408,084,349  $1,153,284,349  \n",
       " 15  $302,089,278    $935,213,767  \n",
       " 16  $258,366,855    $960,366,855  \n",
       " 17  $255,119,788    $945,577,621  \n",
       " 18  $225,764,765  $1,238,764,765  \n",
       " 19            $0              $0  \n",
       " 20  $760,507,625  $2,789,705,275  \n",
       " 21  $200,120,000    $391,081,192  \n",
       " 22  $448,139,099  $1,084,439,099  \n",
       " 23  $172,558,876    $788,241,137  \n",
       " 24  $169,368,427    $591,692,078  \n",
       " 25  $623,357,910  $1,518,812,988  \n",
       " 26  $423,315,812  $1,066,215,812  \n",
       " 27  $291,045,518    $667,999,518  \n",
       " 28  $141,621,490    $417,341,288  \n",
       " 29   $89,302,115    $260,002,115  \n",
       " ..           ...             ...  \n",
       " 70  $353,007,020  $1,518,722,794  \n",
       " 71  $228,778,661    $467,381,584  \n",
       " 72  $202,359,711    $531,514,650  \n",
       " 73  $144,840,419    $353,640,419  \n",
       " 74  $137,855,863    $315,709,697  \n",
       " 75  $101,802,906    $411,002,906  \n",
       " 76  $123,087,120    $333,771,037  \n",
       " 77  $318,604,126    $585,171,547  \n",
       " 78  $533,720,947  $1,001,996,207  \n",
       " 79  $317,101,119    $786,635,413  \n",
       " 80  $237,282,182    $554,606,532  \n",
       " 81  $168,052,812    $561,072,059  \n",
       " 82  $158,848,340    $335,802,233  \n",
       " 83  $112,374,808    $475,384,121  \n",
       " 84   $92,054,159    $259,357,408  \n",
       " 85   $61,793,224    $250,446,701  \n",
       " 86  $355,559,216  $1,050,693,953  \n",
       " 87  $315,058,289    $853,958,289  \n",
       " 88  $291,710,957    $720,539,572  \n",
       " 89  $241,407,328    $758,536,735  \n",
       " 90  $234,037,575    $802,402,853  \n",
       " 91  $223,808,164    $532,508,025  \n",
       " 92  $140,125,968    $256,585,882  \n",
       " 93  $126,643,061    $348,902,025  \n",
       " 94   $73,864,507    $180,047,784  \n",
       " 95   $40,479,370    $215,098,356  \n",
       " 96   $47,482,519    $181,982,519  \n",
       " 97  $220,159,104    $787,456,552  \n",
       " 98  $155,442,489    $542,537,546  \n",
       " 99  $145,443,742    $529,530,715  \n",
       " \n",
       " [100 rows x 6 columns]]"
      ]
     },
     "execution_count": 46,
     "metadata": {},
     "output_type": "execute_result"
    }
   ],
   "source": [
    "tables"
   ]
  },
  {
   "cell_type": "code",
   "execution_count": 47,
   "metadata": {},
   "outputs": [
    {
     "data": {
      "text/plain": [
       "1"
      ]
     },
     "execution_count": 47,
     "metadata": {},
     "output_type": "execute_result"
    }
   ],
   "source": [
    "len(tables)"
   ]
  },
  {
   "cell_type": "code",
   "execution_count": 48,
   "metadata": {
    "scrolled": true
   },
   "outputs": [
    {
     "data": {
      "text/html": [
       "<div>\n",
       "<style scoped>\n",
       "    .dataframe tbody tr th:only-of-type {\n",
       "        vertical-align: middle;\n",
       "    }\n",
       "\n",
       "    .dataframe tbody tr th {\n",
       "        vertical-align: top;\n",
       "    }\n",
       "\n",
       "    .dataframe thead th {\n",
       "        text-align: right;\n",
       "    }\n",
       "</style>\n",
       "<table border=\"1\" class=\"dataframe\">\n",
       "  <thead>\n",
       "    <tr style=\"text-align: right;\">\n",
       "      <th></th>\n",
       "      <th>Unnamed: 0</th>\n",
       "      <th>ReleaseDate</th>\n",
       "      <th>Movie</th>\n",
       "      <th>ProductionBudget</th>\n",
       "      <th>DomesticGross</th>\n",
       "      <th>WorldwideGross</th>\n",
       "    </tr>\n",
       "  </thead>\n",
       "  <tbody>\n",
       "    <tr>\n",
       "      <th>0</th>\n",
       "      <td>1</td>\n",
       "      <td>Apr 23, 2019</td>\n",
       "      <td>Avengers: Endgame</td>\n",
       "      <td>$400,000,000</td>\n",
       "      <td>$858,373,000</td>\n",
       "      <td>$2,797,800,564</td>\n",
       "    </tr>\n",
       "    <tr>\n",
       "      <th>1</th>\n",
       "      <td>2</td>\n",
       "      <td>May 20, 2011</td>\n",
       "      <td>Pirates of the Caribbean: On Stranger Tides</td>\n",
       "      <td>$379,000,000</td>\n",
       "      <td>$241,063,875</td>\n",
       "      <td>$1,045,663,875</td>\n",
       "    </tr>\n",
       "    <tr>\n",
       "      <th>2</th>\n",
       "      <td>3</td>\n",
       "      <td>Apr 22, 2015</td>\n",
       "      <td>Avengers: Age of Ultron</td>\n",
       "      <td>$365,000,000</td>\n",
       "      <td>$459,005,868</td>\n",
       "      <td>$1,403,013,963</td>\n",
       "    </tr>\n",
       "    <tr>\n",
       "      <th>3</th>\n",
       "      <td>4</td>\n",
       "      <td>Dec 16, 2015</td>\n",
       "      <td>Star Wars Ep. VII: The Force Awakens</td>\n",
       "      <td>$306,000,000</td>\n",
       "      <td>$936,662,225</td>\n",
       "      <td>$2,068,223,624</td>\n",
       "    </tr>\n",
       "    <tr>\n",
       "      <th>4</th>\n",
       "      <td>5</td>\n",
       "      <td>Apr 25, 2018</td>\n",
       "      <td>Avengers: Infinity War</td>\n",
       "      <td>$300,000,000</td>\n",
       "      <td>$678,815,482</td>\n",
       "      <td>$2,048,359,754</td>\n",
       "    </tr>\n",
       "    <tr>\n",
       "      <th>5</th>\n",
       "      <td>6</td>\n",
       "      <td>May 24, 2007</td>\n",
       "      <td>Pirates of the Caribbean: At World’s End</td>\n",
       "      <td>$300,000,000</td>\n",
       "      <td>$309,420,425</td>\n",
       "      <td>$963,420,425</td>\n",
       "    </tr>\n",
       "    <tr>\n",
       "      <th>6</th>\n",
       "      <td>7</td>\n",
       "      <td>Nov 13, 2017</td>\n",
       "      <td>Justice League</td>\n",
       "      <td>$300,000,000</td>\n",
       "      <td>$229,024,295</td>\n",
       "      <td>$655,945,209</td>\n",
       "    </tr>\n",
       "    <tr>\n",
       "      <th>7</th>\n",
       "      <td>8</td>\n",
       "      <td>Oct 6, 2015</td>\n",
       "      <td>Spectre</td>\n",
       "      <td>$300,000,000</td>\n",
       "      <td>$200,074,175</td>\n",
       "      <td>$879,620,923</td>\n",
       "    </tr>\n",
       "    <tr>\n",
       "      <th>8</th>\n",
       "      <td>9</td>\n",
       "      <td>May 23, 2018</td>\n",
       "      <td>Solo: A Star Wars Story</td>\n",
       "      <td>$275,000,000</td>\n",
       "      <td>$213,767,512</td>\n",
       "      <td>$393,151,347</td>\n",
       "    </tr>\n",
       "    <tr>\n",
       "      <th>9</th>\n",
       "      <td>10</td>\n",
       "      <td>Mar 7, 2012</td>\n",
       "      <td>John Carter</td>\n",
       "      <td>$263,700,000</td>\n",
       "      <td>$73,058,679</td>\n",
       "      <td>$282,778,100</td>\n",
       "    </tr>\n",
       "    <tr>\n",
       "      <th>10</th>\n",
       "      <td>11</td>\n",
       "      <td>Mar 23, 2016</td>\n",
       "      <td>Batman v Superman: Dawn of Justice</td>\n",
       "      <td>$263,000,000</td>\n",
       "      <td>$330,360,194</td>\n",
       "      <td>$873,634,919</td>\n",
       "    </tr>\n",
       "    <tr>\n",
       "      <th>11</th>\n",
       "      <td>12</td>\n",
       "      <td>Dec 13, 2017</td>\n",
       "      <td>Star Wars Ep. VIII: The Last Jedi</td>\n",
       "      <td>$262,000,000</td>\n",
       "      <td>$620,181,382</td>\n",
       "      <td>$1,332,539,889</td>\n",
       "    </tr>\n",
       "    <tr>\n",
       "      <th>12</th>\n",
       "      <td>13</td>\n",
       "      <td>Nov 24, 2010</td>\n",
       "      <td>Tangled</td>\n",
       "      <td>$260,000,000</td>\n",
       "      <td>$200,821,936</td>\n",
       "      <td>$586,477,240</td>\n",
       "    </tr>\n",
       "    <tr>\n",
       "      <th>13</th>\n",
       "      <td>14</td>\n",
       "      <td>May 4, 2007</td>\n",
       "      <td>Spider-Man 3</td>\n",
       "      <td>$258,000,000</td>\n",
       "      <td>$336,530,303</td>\n",
       "      <td>$894,860,230</td>\n",
       "    </tr>\n",
       "    <tr>\n",
       "      <th>14</th>\n",
       "      <td>15</td>\n",
       "      <td>Apr 22, 2016</td>\n",
       "      <td>Captain America: Civil War</td>\n",
       "      <td>$250,000,000</td>\n",
       "      <td>$408,084,349</td>\n",
       "      <td>$1,153,284,349</td>\n",
       "    </tr>\n",
       "    <tr>\n",
       "      <th>15</th>\n",
       "      <td>16</td>\n",
       "      <td>Jul 15, 2009</td>\n",
       "      <td>Harry Potter and the Half-Blood Prince</td>\n",
       "      <td>$250,000,000</td>\n",
       "      <td>$302,089,278</td>\n",
       "      <td>$935,213,767</td>\n",
       "    </tr>\n",
       "    <tr>\n",
       "      <th>16</th>\n",
       "      <td>17</td>\n",
       "      <td>Dec 13, 2013</td>\n",
       "      <td>The Hobbit: The Desolation of Smaug</td>\n",
       "      <td>$250,000,000</td>\n",
       "      <td>$258,366,855</td>\n",
       "      <td>$960,366,855</td>\n",
       "    </tr>\n",
       "    <tr>\n",
       "      <th>17</th>\n",
       "      <td>18</td>\n",
       "      <td>Dec 10, 2014</td>\n",
       "      <td>The Hobbit: The Battle of the Five Armies</td>\n",
       "      <td>$250,000,000</td>\n",
       "      <td>$255,119,788</td>\n",
       "      <td>$945,577,621</td>\n",
       "    </tr>\n",
       "    <tr>\n",
       "      <th>18</th>\n",
       "      <td>19</td>\n",
       "      <td>Apr 7, 2017</td>\n",
       "      <td>The Fate of the Furious</td>\n",
       "      <td>$250,000,000</td>\n",
       "      <td>$225,764,765</td>\n",
       "      <td>$1,238,764,765</td>\n",
       "    </tr>\n",
       "    <tr>\n",
       "      <th>19</th>\n",
       "      <td>20</td>\n",
       "      <td>Apr 8, 2020</td>\n",
       "      <td>No Time to Die</td>\n",
       "      <td>$250,000,000</td>\n",
       "      <td>$0</td>\n",
       "      <td>$0</td>\n",
       "    </tr>\n",
       "    <tr>\n",
       "      <th>20</th>\n",
       "      <td>21</td>\n",
       "      <td>Dec 17, 2009</td>\n",
       "      <td>Avatar</td>\n",
       "      <td>$237,000,000</td>\n",
       "      <td>$760,507,625</td>\n",
       "      <td>$2,789,705,275</td>\n",
       "    </tr>\n",
       "    <tr>\n",
       "      <th>21</th>\n",
       "      <td>22</td>\n",
       "      <td>Jun 28, 2006</td>\n",
       "      <td>Superman Returns</td>\n",
       "      <td>$232,000,000</td>\n",
       "      <td>$200,120,000</td>\n",
       "      <td>$391,081,192</td>\n",
       "    </tr>\n",
       "    <tr>\n",
       "      <th>22</th>\n",
       "      <td>23</td>\n",
       "      <td>Jul 19, 2012</td>\n",
       "      <td>The Dark Knight Rises</td>\n",
       "      <td>$230,000,000</td>\n",
       "      <td>$448,139,099</td>\n",
       "      <td>$1,084,439,099</td>\n",
       "    </tr>\n",
       "    <tr>\n",
       "      <th>23</th>\n",
       "      <td>24</td>\n",
       "      <td>May 23, 2017</td>\n",
       "      <td>Pirates of the Caribbean: Dead Men Tell No Tales</td>\n",
       "      <td>$230,000,000</td>\n",
       "      <td>$172,558,876</td>\n",
       "      <td>$788,241,137</td>\n",
       "    </tr>\n",
       "    <tr>\n",
       "      <th>24</th>\n",
       "      <td>25</td>\n",
       "      <td>Nov 14, 2008</td>\n",
       "      <td>Quantum of Solace</td>\n",
       "      <td>$230,000,000</td>\n",
       "      <td>$169,368,427</td>\n",
       "      <td>$591,692,078</td>\n",
       "    </tr>\n",
       "    <tr>\n",
       "      <th>25</th>\n",
       "      <td>26</td>\n",
       "      <td>Apr 25, 2012</td>\n",
       "      <td>The Avengers</td>\n",
       "      <td>$225,000,000</td>\n",
       "      <td>$623,357,910</td>\n",
       "      <td>$1,518,812,988</td>\n",
       "    </tr>\n",
       "    <tr>\n",
       "      <th>26</th>\n",
       "      <td>27</td>\n",
       "      <td>Jul 7, 2006</td>\n",
       "      <td>Pirates of the Caribbean: Dead Man’s Chest</td>\n",
       "      <td>$225,000,000</td>\n",
       "      <td>$423,315,812</td>\n",
       "      <td>$1,066,215,812</td>\n",
       "    </tr>\n",
       "    <tr>\n",
       "      <th>27</th>\n",
       "      <td>28</td>\n",
       "      <td>Jun 14, 2013</td>\n",
       "      <td>Man of Steel</td>\n",
       "      <td>$225,000,000</td>\n",
       "      <td>$291,045,518</td>\n",
       "      <td>$667,999,518</td>\n",
       "    </tr>\n",
       "    <tr>\n",
       "      <th>28</th>\n",
       "      <td>29</td>\n",
       "      <td>May 16, 2008</td>\n",
       "      <td>The Chronicles of Narnia: Prince Caspian</td>\n",
       "      <td>$225,000,000</td>\n",
       "      <td>$141,621,490</td>\n",
       "      <td>$417,341,288</td>\n",
       "    </tr>\n",
       "    <tr>\n",
       "      <th>29</th>\n",
       "      <td>30</td>\n",
       "      <td>Jul 2, 2013</td>\n",
       "      <td>The Lone Ranger</td>\n",
       "      <td>$225,000,000</td>\n",
       "      <td>$89,302,115</td>\n",
       "      <td>$260,002,115</td>\n",
       "    </tr>\n",
       "    <tr>\n",
       "      <th>...</th>\n",
       "      <td>...</td>\n",
       "      <td>...</td>\n",
       "      <td>...</td>\n",
       "      <td>...</td>\n",
       "      <td>...</td>\n",
       "      <td>...</td>\n",
       "    </tr>\n",
       "    <tr>\n",
       "      <th>70</th>\n",
       "      <td>71</td>\n",
       "      <td>Apr 1, 2015</td>\n",
       "      <td>Furious 7</td>\n",
       "      <td>$190,000,000</td>\n",
       "      <td>$353,007,020</td>\n",
       "      <td>$1,518,722,794</td>\n",
       "    </tr>\n",
       "    <tr>\n",
       "      <th>71</th>\n",
       "      <td>72</td>\n",
       "      <td>May 16, 2013</td>\n",
       "      <td>Star Trek Into Darkness</td>\n",
       "      <td>$190,000,000</td>\n",
       "      <td>$228,778,661</td>\n",
       "      <td>$467,381,584</td>\n",
       "    </tr>\n",
       "    <tr>\n",
       "      <th>72</th>\n",
       "      <td>73</td>\n",
       "      <td>Jun 19, 2013</td>\n",
       "      <td>World War Z</td>\n",
       "      <td>$190,000,000</td>\n",
       "      <td>$202,359,711</td>\n",
       "      <td>$531,514,650</td>\n",
       "    </tr>\n",
       "    <tr>\n",
       "      <th>73</th>\n",
       "      <td>74</td>\n",
       "      <td>May 10, 2013</td>\n",
       "      <td>The Great Gatsby</td>\n",
       "      <td>$190,000,000</td>\n",
       "      <td>$144,840,419</td>\n",
       "      <td>$353,640,419</td>\n",
       "    </tr>\n",
       "    <tr>\n",
       "      <th>74</th>\n",
       "      <td>75</td>\n",
       "      <td>Nov 6, 2009</td>\n",
       "      <td>Disney’s A Christmas Carol</td>\n",
       "      <td>$190,000,000</td>\n",
       "      <td>$137,855,863</td>\n",
       "      <td>$315,709,697</td>\n",
       "    </tr>\n",
       "    <tr>\n",
       "      <th>75</th>\n",
       "      <td>76</td>\n",
       "      <td>Jul 11, 2013</td>\n",
       "      <td>Pacific Rim</td>\n",
       "      <td>$190,000,000</td>\n",
       "      <td>$101,802,906</td>\n",
       "      <td>$411,002,906</td>\n",
       "    </tr>\n",
       "    <tr>\n",
       "      <th>76</th>\n",
       "      <td>77</td>\n",
       "      <td>Nov 25, 2015</td>\n",
       "      <td>The Good Dinosaur</td>\n",
       "      <td>$187,500,000</td>\n",
       "      <td>$123,087,120</td>\n",
       "      <td>$333,771,037</td>\n",
       "    </tr>\n",
       "    <tr>\n",
       "      <th>77</th>\n",
       "      <td>78</td>\n",
       "      <td>May 2, 2008</td>\n",
       "      <td>Iron Man</td>\n",
       "      <td>$186,000,000</td>\n",
       "      <td>$318,604,126</td>\n",
       "      <td>$585,171,547</td>\n",
       "    </tr>\n",
       "    <tr>\n",
       "      <th>78</th>\n",
       "      <td>79</td>\n",
       "      <td>Jul 18, 2008</td>\n",
       "      <td>The Dark Knight</td>\n",
       "      <td>$185,000,000</td>\n",
       "      <td>$533,720,947</td>\n",
       "      <td>$1,001,996,207</td>\n",
       "    </tr>\n",
       "    <tr>\n",
       "      <th>79</th>\n",
       "      <td>80</td>\n",
       "      <td>May 22, 2008</td>\n",
       "      <td>Indiana Jones and the Kingdom of the Crystal S...</td>\n",
       "      <td>$185,000,000</td>\n",
       "      <td>$317,101,119</td>\n",
       "      <td>$786,635,413</td>\n",
       "    </tr>\n",
       "    <tr>\n",
       "      <th>80</th>\n",
       "      <td>81</td>\n",
       "      <td>Jun 21, 2012</td>\n",
       "      <td>Brave</td>\n",
       "      <td>$185,000,000</td>\n",
       "      <td>$237,282,182</td>\n",
       "      <td>$554,606,532</td>\n",
       "    </tr>\n",
       "    <tr>\n",
       "      <th>81</th>\n",
       "      <td>82</td>\n",
       "      <td>Feb 23, 2017</td>\n",
       "      <td>Kong: Skull Island</td>\n",
       "      <td>$185,000,000</td>\n",
       "      <td>$168,052,812</td>\n",
       "      <td>$561,072,059</td>\n",
       "    </tr>\n",
       "    <tr>\n",
       "      <th>82</th>\n",
       "      <td>83</td>\n",
       "      <td>Jul 21, 2016</td>\n",
       "      <td>Star Trek Beyond</td>\n",
       "      <td>$185,000,000</td>\n",
       "      <td>$158,848,340</td>\n",
       "      <td>$335,802,233</td>\n",
       "    </tr>\n",
       "    <tr>\n",
       "      <th>83</th>\n",
       "      <td>84</td>\n",
       "      <td>Oct 17, 2019</td>\n",
       "      <td>Maleficent: Mistress of Evil</td>\n",
       "      <td>$185,000,000</td>\n",
       "      <td>$112,374,808</td>\n",
       "      <td>$475,384,121</td>\n",
       "    </tr>\n",
       "    <tr>\n",
       "      <th>84</th>\n",
       "      <td>85</td>\n",
       "      <td>Sep 29, 2017</td>\n",
       "      <td>Blade Runner 2049</td>\n",
       "      <td>$185,000,000</td>\n",
       "      <td>$92,054,159</td>\n",
       "      <td>$259,357,408</td>\n",
       "    </tr>\n",
       "    <tr>\n",
       "      <th>85</th>\n",
       "      <td>86</td>\n",
       "      <td>Oct 25, 2019</td>\n",
       "      <td>Terminator: Dark Fate</td>\n",
       "      <td>$185,000,000</td>\n",
       "      <td>$61,793,224</td>\n",
       "      <td>$250,446,701</td>\n",
       "    </tr>\n",
       "    <tr>\n",
       "      <th>86</th>\n",
       "      <td>87</td>\n",
       "      <td>May 22, 2019</td>\n",
       "      <td>Aladdin</td>\n",
       "      <td>$182,000,000</td>\n",
       "      <td>$355,559,216</td>\n",
       "      <td>$1,050,693,953</td>\n",
       "    </tr>\n",
       "    <tr>\n",
       "      <th>87</th>\n",
       "      <td>88</td>\n",
       "      <td>Oct 25, 2017</td>\n",
       "      <td>Thor: Ragnarok</td>\n",
       "      <td>$180,000,000</td>\n",
       "      <td>$315,058,289</td>\n",
       "      <td>$853,958,289</td>\n",
       "    </tr>\n",
       "    <tr>\n",
       "      <th>88</th>\n",
       "      <td>89</td>\n",
       "      <td>Dec 9, 2005</td>\n",
       "      <td>The Chronicles of Narnia: The Lion, the Witch a…</td>\n",
       "      <td>$180,000,000</td>\n",
       "      <td>$291,710,957</td>\n",
       "      <td>$720,539,572</td>\n",
       "    </tr>\n",
       "    <tr>\n",
       "      <th>89</th>\n",
       "      <td>90</td>\n",
       "      <td>May 28, 2014</td>\n",
       "      <td>Maleficent</td>\n",
       "      <td>$180,000,000</td>\n",
       "      <td>$241,407,328</td>\n",
       "      <td>$758,536,735</td>\n",
       "    </tr>\n",
       "    <tr>\n",
       "      <th>90</th>\n",
       "      <td>91</td>\n",
       "      <td>Nov 14, 2016</td>\n",
       "      <td>Fantastic Beasts and Where to Find Them</td>\n",
       "      <td>$180,000,000</td>\n",
       "      <td>$234,037,575</td>\n",
       "      <td>$802,402,853</td>\n",
       "    </tr>\n",
       "    <tr>\n",
       "      <th>91</th>\n",
       "      <td>92</td>\n",
       "      <td>Jun 27, 2008</td>\n",
       "      <td>WALL-E</td>\n",
       "      <td>$180,000,000</td>\n",
       "      <td>$223,808,164</td>\n",
       "      <td>$532,508,025</td>\n",
       "    </tr>\n",
       "    <tr>\n",
       "      <th>92</th>\n",
       "      <td>93</td>\n",
       "      <td>Aug 10, 2007</td>\n",
       "      <td>Rush Hour 3</td>\n",
       "      <td>$180,000,000</td>\n",
       "      <td>$140,125,968</td>\n",
       "      <td>$256,585,882</td>\n",
       "    </tr>\n",
       "    <tr>\n",
       "      <th>93</th>\n",
       "      <td>94</td>\n",
       "      <td>Jun 27, 2016</td>\n",
       "      <td>The Legend of Tarzan</td>\n",
       "      <td>$180,000,000</td>\n",
       "      <td>$126,643,061</td>\n",
       "      <td>$348,902,025</td>\n",
       "    </tr>\n",
       "    <tr>\n",
       "      <th>94</th>\n",
       "      <td>95</td>\n",
       "      <td>Nov 23, 2011</td>\n",
       "      <td>Hugo</td>\n",
       "      <td>$180,000,000</td>\n",
       "      <td>$73,864,507</td>\n",
       "      <td>$180,047,784</td>\n",
       "    </tr>\n",
       "    <tr>\n",
       "      <th>95</th>\n",
       "      <td>96</td>\n",
       "      <td>Jul 20, 2017</td>\n",
       "      <td>Valerian and the City of a Thousand Planets</td>\n",
       "      <td>$180,000,000</td>\n",
       "      <td>$40,479,370</td>\n",
       "      <td>$215,098,356</td>\n",
       "    </tr>\n",
       "    <tr>\n",
       "      <th>96</th>\n",
       "      <td>97</td>\n",
       "      <td>Feb 6, 2015</td>\n",
       "      <td>Jupiter Ascending</td>\n",
       "      <td>$179,000,000</td>\n",
       "      <td>$47,482,519</td>\n",
       "      <td>$181,982,519</td>\n",
       "    </tr>\n",
       "    <tr>\n",
       "      <th>97</th>\n",
       "      <td>98</td>\n",
       "      <td>Jul 16, 2018</td>\n",
       "      <td>Mission: Impossible—Fallout</td>\n",
       "      <td>$178,000,000</td>\n",
       "      <td>$220,159,104</td>\n",
       "      <td>$787,456,552</td>\n",
       "    </tr>\n",
       "    <tr>\n",
       "      <th>98</th>\n",
       "      <td>99</td>\n",
       "      <td>May 18, 2016</td>\n",
       "      <td>X-Men: Apocalypse</td>\n",
       "      <td>$178,000,000</td>\n",
       "      <td>$155,442,489</td>\n",
       "      <td>$542,537,546</td>\n",
       "    </tr>\n",
       "    <tr>\n",
       "      <th>99</th>\n",
       "      <td>100</td>\n",
       "      <td>Aug 9, 2018</td>\n",
       "      <td>The Meg</td>\n",
       "      <td>$178,000,000</td>\n",
       "      <td>$145,443,742</td>\n",
       "      <td>$529,530,715</td>\n",
       "    </tr>\n",
       "  </tbody>\n",
       "</table>\n",
       "<p>100 rows × 6 columns</p>\n",
       "</div>"
      ],
      "text/plain": [
       "    Unnamed: 0   ReleaseDate  \\\n",
       "0            1  Apr 23, 2019   \n",
       "1            2  May 20, 2011   \n",
       "2            3  Apr 22, 2015   \n",
       "3            4  Dec 16, 2015   \n",
       "4            5  Apr 25, 2018   \n",
       "5            6  May 24, 2007   \n",
       "6            7  Nov 13, 2017   \n",
       "7            8   Oct 6, 2015   \n",
       "8            9  May 23, 2018   \n",
       "9           10   Mar 7, 2012   \n",
       "10          11  Mar 23, 2016   \n",
       "11          12  Dec 13, 2017   \n",
       "12          13  Nov 24, 2010   \n",
       "13          14   May 4, 2007   \n",
       "14          15  Apr 22, 2016   \n",
       "15          16  Jul 15, 2009   \n",
       "16          17  Dec 13, 2013   \n",
       "17          18  Dec 10, 2014   \n",
       "18          19   Apr 7, 2017   \n",
       "19          20   Apr 8, 2020   \n",
       "20          21  Dec 17, 2009   \n",
       "21          22  Jun 28, 2006   \n",
       "22          23  Jul 19, 2012   \n",
       "23          24  May 23, 2017   \n",
       "24          25  Nov 14, 2008   \n",
       "25          26  Apr 25, 2012   \n",
       "26          27   Jul 7, 2006   \n",
       "27          28  Jun 14, 2013   \n",
       "28          29  May 16, 2008   \n",
       "29          30   Jul 2, 2013   \n",
       "..         ...           ...   \n",
       "70          71   Apr 1, 2015   \n",
       "71          72  May 16, 2013   \n",
       "72          73  Jun 19, 2013   \n",
       "73          74  May 10, 2013   \n",
       "74          75   Nov 6, 2009   \n",
       "75          76  Jul 11, 2013   \n",
       "76          77  Nov 25, 2015   \n",
       "77          78   May 2, 2008   \n",
       "78          79  Jul 18, 2008   \n",
       "79          80  May 22, 2008   \n",
       "80          81  Jun 21, 2012   \n",
       "81          82  Feb 23, 2017   \n",
       "82          83  Jul 21, 2016   \n",
       "83          84  Oct 17, 2019   \n",
       "84          85  Sep 29, 2017   \n",
       "85          86  Oct 25, 2019   \n",
       "86          87  May 22, 2019   \n",
       "87          88  Oct 25, 2017   \n",
       "88          89   Dec 9, 2005   \n",
       "89          90  May 28, 2014   \n",
       "90          91  Nov 14, 2016   \n",
       "91          92  Jun 27, 2008   \n",
       "92          93  Aug 10, 2007   \n",
       "93          94  Jun 27, 2016   \n",
       "94          95  Nov 23, 2011   \n",
       "95          96  Jul 20, 2017   \n",
       "96          97   Feb 6, 2015   \n",
       "97          98  Jul 16, 2018   \n",
       "98          99  May 18, 2016   \n",
       "99         100   Aug 9, 2018   \n",
       "\n",
       "                                                Movie ProductionBudget  \\\n",
       "0                                   Avengers: Endgame     $400,000,000   \n",
       "1         Pirates of the Caribbean: On Stranger Tides     $379,000,000   \n",
       "2                             Avengers: Age of Ultron     $365,000,000   \n",
       "3                Star Wars Ep. VII: The Force Awakens     $306,000,000   \n",
       "4                              Avengers: Infinity War     $300,000,000   \n",
       "5            Pirates of the Caribbean: At World’s End     $300,000,000   \n",
       "6                                      Justice League     $300,000,000   \n",
       "7                                             Spectre     $300,000,000   \n",
       "8                             Solo: A Star Wars Story     $275,000,000   \n",
       "9                                         John Carter     $263,700,000   \n",
       "10                 Batman v Superman: Dawn of Justice     $263,000,000   \n",
       "11                  Star Wars Ep. VIII: The Last Jedi     $262,000,000   \n",
       "12                                            Tangled     $260,000,000   \n",
       "13                                       Spider-Man 3     $258,000,000   \n",
       "14                         Captain America: Civil War     $250,000,000   \n",
       "15             Harry Potter and the Half-Blood Prince     $250,000,000   \n",
       "16                The Hobbit: The Desolation of Smaug     $250,000,000   \n",
       "17          The Hobbit: The Battle of the Five Armies     $250,000,000   \n",
       "18                            The Fate of the Furious     $250,000,000   \n",
       "19                                     No Time to Die     $250,000,000   \n",
       "20                                             Avatar     $237,000,000   \n",
       "21                                   Superman Returns     $232,000,000   \n",
       "22                              The Dark Knight Rises     $230,000,000   \n",
       "23   Pirates of the Caribbean: Dead Men Tell No Tales     $230,000,000   \n",
       "24                                  Quantum of Solace     $230,000,000   \n",
       "25                                       The Avengers     $225,000,000   \n",
       "26         Pirates of the Caribbean: Dead Man’s Chest     $225,000,000   \n",
       "27                                       Man of Steel     $225,000,000   \n",
       "28           The Chronicles of Narnia: Prince Caspian     $225,000,000   \n",
       "29                                    The Lone Ranger     $225,000,000   \n",
       "..                                                ...              ...   \n",
       "70                                          Furious 7     $190,000,000   \n",
       "71                            Star Trek Into Darkness     $190,000,000   \n",
       "72                                        World War Z     $190,000,000   \n",
       "73                                   The Great Gatsby     $190,000,000   \n",
       "74                         Disney’s A Christmas Carol     $190,000,000   \n",
       "75                                        Pacific Rim     $190,000,000   \n",
       "76                                  The Good Dinosaur     $187,500,000   \n",
       "77                                           Iron Man     $186,000,000   \n",
       "78                                    The Dark Knight     $185,000,000   \n",
       "79  Indiana Jones and the Kingdom of the Crystal S...     $185,000,000   \n",
       "80                                              Brave     $185,000,000   \n",
       "81                                 Kong: Skull Island     $185,000,000   \n",
       "82                                   Star Trek Beyond     $185,000,000   \n",
       "83                       Maleficent: Mistress of Evil     $185,000,000   \n",
       "84                                  Blade Runner 2049     $185,000,000   \n",
       "85                              Terminator: Dark Fate     $185,000,000   \n",
       "86                                            Aladdin     $182,000,000   \n",
       "87                                     Thor: Ragnarok     $180,000,000   \n",
       "88   The Chronicles of Narnia: The Lion, the Witch a…     $180,000,000   \n",
       "89                                         Maleficent     $180,000,000   \n",
       "90            Fantastic Beasts and Where to Find Them     $180,000,000   \n",
       "91                                             WALL-E     $180,000,000   \n",
       "92                                        Rush Hour 3     $180,000,000   \n",
       "93                               The Legend of Tarzan     $180,000,000   \n",
       "94                                               Hugo     $180,000,000   \n",
       "95        Valerian and the City of a Thousand Planets     $180,000,000   \n",
       "96                                  Jupiter Ascending     $179,000,000   \n",
       "97                        Mission: Impossible—Fallout     $178,000,000   \n",
       "98                                  X-Men: Apocalypse     $178,000,000   \n",
       "99                                            The Meg     $178,000,000   \n",
       "\n",
       "   DomesticGross  WorldwideGross  \n",
       "0   $858,373,000  $2,797,800,564  \n",
       "1   $241,063,875  $1,045,663,875  \n",
       "2   $459,005,868  $1,403,013,963  \n",
       "3   $936,662,225  $2,068,223,624  \n",
       "4   $678,815,482  $2,048,359,754  \n",
       "5   $309,420,425    $963,420,425  \n",
       "6   $229,024,295    $655,945,209  \n",
       "7   $200,074,175    $879,620,923  \n",
       "8   $213,767,512    $393,151,347  \n",
       "9    $73,058,679    $282,778,100  \n",
       "10  $330,360,194    $873,634,919  \n",
       "11  $620,181,382  $1,332,539,889  \n",
       "12  $200,821,936    $586,477,240  \n",
       "13  $336,530,303    $894,860,230  \n",
       "14  $408,084,349  $1,153,284,349  \n",
       "15  $302,089,278    $935,213,767  \n",
       "16  $258,366,855    $960,366,855  \n",
       "17  $255,119,788    $945,577,621  \n",
       "18  $225,764,765  $1,238,764,765  \n",
       "19            $0              $0  \n",
       "20  $760,507,625  $2,789,705,275  \n",
       "21  $200,120,000    $391,081,192  \n",
       "22  $448,139,099  $1,084,439,099  \n",
       "23  $172,558,876    $788,241,137  \n",
       "24  $169,368,427    $591,692,078  \n",
       "25  $623,357,910  $1,518,812,988  \n",
       "26  $423,315,812  $1,066,215,812  \n",
       "27  $291,045,518    $667,999,518  \n",
       "28  $141,621,490    $417,341,288  \n",
       "29   $89,302,115    $260,002,115  \n",
       "..           ...             ...  \n",
       "70  $353,007,020  $1,518,722,794  \n",
       "71  $228,778,661    $467,381,584  \n",
       "72  $202,359,711    $531,514,650  \n",
       "73  $144,840,419    $353,640,419  \n",
       "74  $137,855,863    $315,709,697  \n",
       "75  $101,802,906    $411,002,906  \n",
       "76  $123,087,120    $333,771,037  \n",
       "77  $318,604,126    $585,171,547  \n",
       "78  $533,720,947  $1,001,996,207  \n",
       "79  $317,101,119    $786,635,413  \n",
       "80  $237,282,182    $554,606,532  \n",
       "81  $168,052,812    $561,072,059  \n",
       "82  $158,848,340    $335,802,233  \n",
       "83  $112,374,808    $475,384,121  \n",
       "84   $92,054,159    $259,357,408  \n",
       "85   $61,793,224    $250,446,701  \n",
       "86  $355,559,216  $1,050,693,953  \n",
       "87  $315,058,289    $853,958,289  \n",
       "88  $291,710,957    $720,539,572  \n",
       "89  $241,407,328    $758,536,735  \n",
       "90  $234,037,575    $802,402,853  \n",
       "91  $223,808,164    $532,508,025  \n",
       "92  $140,125,968    $256,585,882  \n",
       "93  $126,643,061    $348,902,025  \n",
       "94   $73,864,507    $180,047,784  \n",
       "95   $40,479,370    $215,098,356  \n",
       "96   $47,482,519    $181,982,519  \n",
       "97  $220,159,104    $787,456,552  \n",
       "98  $155,442,489    $542,537,546  \n",
       "99  $145,443,742    $529,530,715  \n",
       "\n",
       "[100 rows x 6 columns]"
      ]
     },
     "execution_count": 48,
     "metadata": {},
     "output_type": "execute_result"
    }
   ],
   "source": [
    "df = tables[0]\n",
    "\n",
    "df"
   ]
  },
  {
   "cell_type": "markdown",
   "metadata": {},
   "source": [
    "## Your Turn: Downloading weather data\n"
   ]
  },
  {
   "cell_type": "markdown",
   "metadata": {},
   "source": [
    "We now know enough to proceed with extracting information about the local weather from the National Weather Service website. The first step is to find the page we want to scrape. We’ll extract weather information about my hometown of Auburn, AL from this [page](https://forecast.weather.gov/MapClick.php?lat=32.6083&lon=-85.4817)."
   ]
  },
  {
   "cell_type": "markdown",
   "metadata": {},
   "source": [
    "We can then scroll up in the elements panel to find the “outermost” element that contains all of the text that corresponds to the extended forecasts. In this case, it’s a `div` tag with the id `seven-day-forecas`t:"
   ]
  },
  {
   "cell_type": "markdown",
   "metadata": {},
   "source": [
    "We now know enough to download the page and start parsing it. In the below code, we:\n",
    "\n",
    "1. Download the web page containing the forecast.\n",
    "2. Create a `BeautifulSoup` class to parse the page.\n",
    "3. Find the `div` with id `seven-day-forecast`, and assign to `seven_day`\n",
    "4. Inside `seven_day`, find each individual forecast item.\n",
    "5. Extract and print the first forecast item."
   ]
  },
  {
   "cell_type": "code",
   "execution_count": 49,
   "metadata": {},
   "outputs": [],
   "source": [
    "page = requests.get(\"https://forecast.weather.gov/MapClick.php?lat=32.6083&lon=-85.4817\")\n",
    "soup = BeautifulSoup(page.content, 'html.parser')\n",
    "\n",
    "# Your code here"
   ]
  },
  {
   "cell_type": "code",
   "execution_count": 60,
   "metadata": {
    "scrolled": true
   },
   "outputs": [
    {
     "data": {
      "text/plain": [
       "<div class=\"panel panel-default\" id=\"seven-day-forecast\">\n",
       "<div class=\"panel-heading\">\n",
       "<b>Extended Forecast for</b>\n",
       "<h2 class=\"panel-title\">\n",
       "\t    \t    Auburn University AL\t</h2>\n",
       "</div>\n",
       "<div class=\"panel-body\" id=\"seven-day-forecast-body\">\n",
       "<div id=\"seven-day-forecast-container\"><ul class=\"list-unstyled\" id=\"seven-day-forecast-list\"><li class=\"forecast-tombstone\">\n",
       "<div class=\"tombstone-container\">\n",
       "<p class=\"period-name\">Today<br/><br/></p>\n",
       "<p><img alt=\"Today: Showers and possibly a thunderstorm before noon, then rain after noon.  Temperature falling to around 50 by 5pm. North wind 10 to 15 mph.  Chance of precipitation is 90%. New rainfall amounts between a tenth and quarter of an inch, except higher amounts possible in thunderstorms. \" class=\"forecast-icon\" src=\"newimages/medium/shra90.png\" title=\"Today: Showers and possibly a thunderstorm before noon, then rain after noon.  Temperature falling to around 50 by 5pm. North wind 10 to 15 mph.  Chance of precipitation is 90%. New rainfall amounts between a tenth and quarter of an inch, except higher amounts possible in thunderstorms. \"/></p><p class=\"short-desc\">Showers</p><p class=\"temp temp-high\">High: 70 °F<span style=\"color: #000000; font-weight:normal;\">⇓</span></p></div></li><li class=\"forecast-tombstone\">\n",
       "<div class=\"tombstone-container\">\n",
       "<p class=\"period-name\">Tonight<br/><br/></p>\n",
       "<p><img alt=\"Tonight: Rain.  Low around 40. North wind 10 to 15 mph.  Chance of precipitation is 80%. New precipitation amounts of less than a tenth of an inch possible. \" class=\"forecast-icon\" src=\"newimages/medium/nra80.png\" title=\"Tonight: Rain.  Low around 40. North wind 10 to 15 mph.  Chance of precipitation is 80%. New precipitation amounts of less than a tenth of an inch possible. \"/></p><p class=\"short-desc\">Rain</p><p class=\"temp temp-low\">Low: 40 °F</p></div></li><li class=\"forecast-tombstone\">\n",
       "<div class=\"tombstone-container\">\n",
       "<p class=\"period-name\">Wednesday<br/><br/></p>\n",
       "<p><img alt=\"Wednesday: A 40 percent chance of rain, mainly before noon.  Partly sunny, with a high near 55. North wind 5 to 10 mph, with gusts as high as 20 mph. \" class=\"forecast-icon\" src=\"newimages/medium/ra40.png\" title=\"Wednesday: A 40 percent chance of rain, mainly before noon.  Partly sunny, with a high near 55. North wind 5 to 10 mph, with gusts as high as 20 mph. \"/></p><p class=\"short-desc\">Chance Rain</p><p class=\"temp temp-high\">High: 55 °F</p></div></li><li class=\"forecast-tombstone\">\n",
       "<div class=\"tombstone-container\">\n",
       "<p class=\"period-name\">Wednesday<br/>Night</p>\n",
       "<p><img alt=\"Wednesday Night: A 20 percent chance of showers after 3am.  Mostly clear, with a low around 42. East wind 5 to 10 mph, with gusts as high as 20 mph. \" class=\"forecast-icon\" src=\"DualImage.php?i=nfew&amp;j=hi_nshwrs&amp;jp=20\" title=\"Wednesday Night: A 20 percent chance of showers after 3am.  Mostly clear, with a low around 42. East wind 5 to 10 mph, with gusts as high as 20 mph. \"/></p><p class=\"short-desc\">Mostly Clear<br/>then Slight<br/>Chance<br/>Showers</p><p class=\"temp temp-low\">Low: 42 °F</p></div></li><li class=\"forecast-tombstone\">\n",
       "<div class=\"tombstone-container\">\n",
       "<p class=\"period-name\">Thursday<br/><br/></p>\n",
       "<p><img alt=\"Thursday: A 30 percent chance of showers, mainly after noon.  Increasing clouds, with a high near 53. East wind around 10 mph, with gusts as high as 25 mph. \" class=\"forecast-icon\" src=\"newimages/medium/shra30.png\" title=\"Thursday: A 30 percent chance of showers, mainly after noon.  Increasing clouds, with a high near 53. East wind around 10 mph, with gusts as high as 25 mph. \"/></p><p class=\"short-desc\">Chance<br/>Showers</p><p class=\"temp temp-high\">High: 53 °F</p></div></li><li class=\"forecast-tombstone\">\n",
       "<div class=\"tombstone-container\">\n",
       "<p class=\"period-name\">Thursday<br/>Night</p>\n",
       "<p><img alt=\"Thursday Night: Showers likely, mainly after midnight.  Cloudy, with a low around 42. Chance of precipitation is 60%.\" class=\"forecast-icon\" src=\"newimages/medium/nshra60.png\" title=\"Thursday Night: Showers likely, mainly after midnight.  Cloudy, with a low around 42. Chance of precipitation is 60%.\"/></p><p class=\"short-desc\">Showers<br/>Likely</p><p class=\"temp temp-low\">Low: 42 °F</p></div></li><li class=\"forecast-tombstone\">\n",
       "<div class=\"tombstone-container\">\n",
       "<p class=\"period-name\">Friday<br/><br/></p>\n",
       "<p><img alt=\"Friday: Showers likely.  Cloudy, with a high near 55. Chance of precipitation is 70%.\" class=\"forecast-icon\" src=\"newimages/medium/shra70.png\" title=\"Friday: Showers likely.  Cloudy, with a high near 55. Chance of precipitation is 70%.\"/></p><p class=\"short-desc\">Showers<br/>Likely</p><p class=\"temp temp-high\">High: 55 °F</p></div></li><li class=\"forecast-tombstone\">\n",
       "<div class=\"tombstone-container\">\n",
       "<p class=\"period-name\">Friday<br/>Night</p>\n",
       "<p><img alt=\"Friday Night: A 50 percent chance of showers.  Cloudy, with a low around 46.\" class=\"forecast-icon\" src=\"newimages/medium/nshra50.png\" title=\"Friday Night: A 50 percent chance of showers.  Cloudy, with a low around 46.\"/></p><p class=\"short-desc\">Chance<br/>Showers</p><p class=\"temp temp-low\">Low: 46 °F</p></div></li><li class=\"forecast-tombstone\">\n",
       "<div class=\"tombstone-container\">\n",
       "<p class=\"period-name\">Saturday<br/><br/></p>\n",
       "<p><img alt=\"Saturday: A 20 percent chance of showers.  Mostly cloudy, with a high near 61.\" class=\"forecast-icon\" src=\"newimages/medium/shra20.png\" title=\"Saturday: A 20 percent chance of showers.  Mostly cloudy, with a high near 61.\"/></p><p class=\"short-desc\">Slight Chance<br/>Showers</p><p class=\"temp temp-high\">High: 61 °F</p></div></li></ul></div>\n",
       "<script type=\"text/javascript\">\n",
       "// equalize forecast heights\n",
       "$(function () {\n",
       "\tvar maxh = 0;\n",
       "\t$(\".forecast-tombstone .short-desc\").each(function () {\n",
       "\t\tvar h = $(this).height();\n",
       "\t\tif (h > maxh) { maxh = h; }\n",
       "\t});\n",
       "\t$(\".forecast-tombstone .short-desc\").height(maxh);\n",
       "});\n",
       "</script> </div>\n",
       "</div>"
      ]
     },
     "execution_count": 60,
     "metadata": {},
     "output_type": "execute_result"
    }
   ],
   "source": [
    "soup.find('div', attrs = {'id' : 'seven-day-forecast'})"
   ]
  },
  {
   "cell_type": "code",
   "execution_count": 62,
   "metadata": {
    "scrolled": true
   },
   "outputs": [],
   "source": [
    "forecast = soup.select('#seven-day-forecast')[0]"
   ]
  },
  {
   "cell_type": "code",
   "execution_count": null,
   "metadata": {},
   "outputs": [],
   "source": []
  },
  {
   "cell_type": "markdown",
   "metadata": {},
   "source": [
    "### Extracting information from the page\n",
    "As you can see, inside the forecast item `tonight` is all the information we want. There are `4` pieces of information we can extract:\n",
    "\n",
    "- The name of the forecast item — in this case, **Tonight**.\n",
    "- The description of the conditions — this is stored in the `title` property of `img`.\n",
    "- A short description of the conditions — in this case, **Mostly Clear**.\n",
    "- The temperature low — in this case, **49 degrees**.\n",
    "\n",
    "We’ll extract the name of the forecast item, the short description, and the temperature first, since they’re all similar:"
   ]
  },
  {
   "cell_type": "markdown",
   "metadata": {},
   "source": [
    "Now, we can extract the `title` attribute from the `img` tag. To do this, we just treat the `BeautifulSoup` object like a dictionary, and pass in the attribute we want as a key:"
   ]
  },
  {
   "cell_type": "code",
   "execution_count": 88,
   "metadata": {},
   "outputs": [
    {
     "data": {
      "text/plain": [
       "'Today: Showers and possibly a thunderstorm before noon, then rain after noon.  Temperature falling to around 50 by 5pm. North wind 10 to 15 mph.  Chance of precipitation is 90%. New rainfall amounts between a tenth and quarter of an inch, except higher amounts possible in thunderstorms. '"
      ]
     },
     "execution_count": 88,
     "metadata": {},
     "output_type": "execute_result"
    }
   ],
   "source": [
    "forecast.find('img')['alt']"
   ]
  },
  {
   "cell_type": "code",
   "execution_count": 76,
   "metadata": {},
   "outputs": [],
   "source": [
    "tombstones = forecast.find_all(attrs = {'class' : 'forecast-tombstone'})"
   ]
  },
  {
   "cell_type": "code",
   "execution_count": 78,
   "metadata": {},
   "outputs": [
    {
     "data": {
      "text/plain": [
       "9"
      ]
     },
     "execution_count": 78,
     "metadata": {},
     "output_type": "execute_result"
    }
   ],
   "source": [
    "len(tombstones)"
   ]
  },
  {
   "cell_type": "markdown",
   "metadata": {},
   "source": [
    "### Extracting all the information from the page\n",
    "Now that we know how to extract each individual piece of information, we can combine our knowledge with css selectors and list comprehensions to extract everything at once.\n",
    "\n",
    "In the below code, we:\n",
    "\n",
    "- Select all items with the class period-name inside an item with the class tombstone-container in seven_day.\n",
    "- Use a list comprehension to call the get_text method on each BeautifulSoup object."
   ]
  },
  {
   "cell_type": "code",
   "execution_count": 80,
   "metadata": {},
   "outputs": [
    {
     "data": {
      "text/plain": [
       "['Today',\n",
       " 'Tonight',\n",
       " 'Wednesday',\n",
       " 'WednesdayNight',\n",
       " 'Thursday',\n",
       " 'ThursdayNight',\n",
       " 'Friday',\n",
       " 'FridayNight',\n",
       " 'Saturday']"
      ]
     },
     "execution_count": 80,
     "metadata": {},
     "output_type": "execute_result"
    }
   ],
   "source": [
    "period_tags = forecast.select(\".tombstone-container .period-name\")\n",
    "periods = [pt.get_text() for pt in period_tags]\n",
    "periods"
   ]
  },
  {
   "cell_type": "markdown",
   "metadata": {},
   "source": [
    "As you can see above, our technique gets us each of the period names, in order. Now you can apply the same technique to get the other 3 fields:"
   ]
  },
  {
   "cell_type": "code",
   "execution_count": null,
   "metadata": {},
   "outputs": [],
   "source": [
    "for i in forecast.find_all('img'):\n",
    "    print (i['alt'])"
   ]
  },
  {
   "cell_type": "code",
   "execution_count": 90,
   "metadata": {},
   "outputs": [],
   "source": [
    "# Your code here\n",
    "descriptions = forecast.find_all('img')\n",
    "text = [i['alt'] for i in descriptions]\n"
   ]
  },
  {
   "cell_type": "code",
   "execution_count": 95,
   "metadata": {},
   "outputs": [],
   "source": [
    "temps = [i.get_text() for i in forecast.find_all('p', attrs = {'class' : 'temp'})]"
   ]
  },
  {
   "cell_type": "code",
   "execution_count": 99,
   "metadata": {},
   "outputs": [
    {
     "data": {
      "text/plain": [
       "[<p class=\"temp temp-high\">High: 70 °F<span style=\"color: #000000; font-weight:normal;\">⇓</span></p>,\n",
       " <p class=\"temp temp-low\">Low: 40 °F</p>,\n",
       " <p class=\"temp temp-high\">High: 55 °F</p>,\n",
       " <p class=\"temp temp-low\">Low: 42 °F</p>,\n",
       " <p class=\"temp temp-high\">High: 53 °F</p>,\n",
       " <p class=\"temp temp-low\">Low: 42 °F</p>,\n",
       " <p class=\"temp temp-high\">High: 55 °F</p>,\n",
       " <p class=\"temp temp-low\">Low: 46 °F</p>,\n",
       " <p class=\"temp temp-high\">High: 61 °F</p>]"
      ]
     },
     "execution_count": 99,
     "metadata": {},
     "output_type": "execute_result"
    }
   ],
   "source": [
    "forecast.find_all('p', attrs = {'class' : 'temp'})"
   ]
  },
  {
   "cell_type": "code",
   "execution_count": 103,
   "metadata": {},
   "outputs": [
    {
     "data": {
      "text/plain": [
       "'High: 70 °F⇓'"
      ]
     },
     "execution_count": 103,
     "metadata": {},
     "output_type": "execute_result"
    }
   ],
   "source": [
    "forecast.find_all('p', attrs = {'class' : 'temp'})[0].get_text()"
   ]
  },
  {
   "cell_type": "markdown",
   "metadata": {},
   "source": [
    "### Combining our data into a Pandas Dataframe\n",
    "\n",
    "We can now combine the data into a Pandas DataFrame and analyze it.\n",
    "\n",
    "In order to do this, we’ll call the DataFrame class, and pass in each list of items that we have. We pass them in as part of a dictionary. Each dictionary key will become a column in the DataFrame, and each list will become the values in the column:"
   ]
  },
  {
   "cell_type": "code",
   "execution_count": 97,
   "metadata": {},
   "outputs": [
    {
     "data": {
      "text/html": [
       "<div>\n",
       "<style scoped>\n",
       "    .dataframe tbody tr th:only-of-type {\n",
       "        vertical-align: middle;\n",
       "    }\n",
       "\n",
       "    .dataframe tbody tr th {\n",
       "        vertical-align: top;\n",
       "    }\n",
       "\n",
       "    .dataframe thead th {\n",
       "        text-align: right;\n",
       "    }\n",
       "</style>\n",
       "<table border=\"1\" class=\"dataframe\">\n",
       "  <thead>\n",
       "    <tr style=\"text-align: right;\">\n",
       "      <th></th>\n",
       "      <th>period</th>\n",
       "      <th>temps</th>\n",
       "      <th>desc</th>\n",
       "    </tr>\n",
       "  </thead>\n",
       "  <tbody>\n",
       "    <tr>\n",
       "      <th>0</th>\n",
       "      <td>Today</td>\n",
       "      <td>High: 70 °F⇓</td>\n",
       "      <td>Today: Showers and possibly a thunderstorm bef...</td>\n",
       "    </tr>\n",
       "    <tr>\n",
       "      <th>1</th>\n",
       "      <td>Tonight</td>\n",
       "      <td>Low: 40 °F</td>\n",
       "      <td>Tonight: Rain.  Low around 40. North wind 10 t...</td>\n",
       "    </tr>\n",
       "    <tr>\n",
       "      <th>2</th>\n",
       "      <td>Wednesday</td>\n",
       "      <td>High: 55 °F</td>\n",
       "      <td>Wednesday: A 40 percent chance of rain, mainly...</td>\n",
       "    </tr>\n",
       "    <tr>\n",
       "      <th>3</th>\n",
       "      <td>WednesdayNight</td>\n",
       "      <td>Low: 42 °F</td>\n",
       "      <td>Wednesday Night: A 20 percent chance of shower...</td>\n",
       "    </tr>\n",
       "    <tr>\n",
       "      <th>4</th>\n",
       "      <td>Thursday</td>\n",
       "      <td>High: 53 °F</td>\n",
       "      <td>Thursday: A 30 percent chance of showers, main...</td>\n",
       "    </tr>\n",
       "    <tr>\n",
       "      <th>5</th>\n",
       "      <td>ThursdayNight</td>\n",
       "      <td>Low: 42 °F</td>\n",
       "      <td>Thursday Night: Showers likely, mainly after m...</td>\n",
       "    </tr>\n",
       "    <tr>\n",
       "      <th>6</th>\n",
       "      <td>Friday</td>\n",
       "      <td>High: 55 °F</td>\n",
       "      <td>Friday: Showers likely.  Cloudy, with a high n...</td>\n",
       "    </tr>\n",
       "    <tr>\n",
       "      <th>7</th>\n",
       "      <td>FridayNight</td>\n",
       "      <td>Low: 46 °F</td>\n",
       "      <td>Friday Night: A 50 percent chance of showers. ...</td>\n",
       "    </tr>\n",
       "    <tr>\n",
       "      <th>8</th>\n",
       "      <td>Saturday</td>\n",
       "      <td>High: 61 °F</td>\n",
       "      <td>Saturday: A 20 percent chance of showers.  Mos...</td>\n",
       "    </tr>\n",
       "  </tbody>\n",
       "</table>\n",
       "</div>"
      ],
      "text/plain": [
       "           period         temps  \\\n",
       "0           Today  High: 70 °F⇓   \n",
       "1         Tonight    Low: 40 °F   \n",
       "2       Wednesday   High: 55 °F   \n",
       "3  WednesdayNight    Low: 42 °F   \n",
       "4        Thursday   High: 53 °F   \n",
       "5   ThursdayNight    Low: 42 °F   \n",
       "6          Friday   High: 55 °F   \n",
       "7     FridayNight    Low: 46 °F   \n",
       "8        Saturday   High: 61 °F   \n",
       "\n",
       "                                                desc  \n",
       "0  Today: Showers and possibly a thunderstorm bef...  \n",
       "1  Tonight: Rain.  Low around 40. North wind 10 t...  \n",
       "2  Wednesday: A 40 percent chance of rain, mainly...  \n",
       "3  Wednesday Night: A 20 percent chance of shower...  \n",
       "4  Thursday: A 30 percent chance of showers, main...  \n",
       "5  Thursday Night: Showers likely, mainly after m...  \n",
       "6  Friday: Showers likely.  Cloudy, with a high n...  \n",
       "7  Friday Night: A 50 percent chance of showers. ...  \n",
       "8  Saturday: A 20 percent chance of showers.  Mos...  "
      ]
     },
     "execution_count": 97,
     "metadata": {},
     "output_type": "execute_result"
    }
   ],
   "source": [
    "import pandas as pd\n",
    "weather = pd.DataFrame({\n",
    "    \"period\": periods,\n",
    "    'temps' : temps,\n",
    "    \"desc\": text\n",
    "})\n",
    "weather"
   ]
  },
  {
   "cell_type": "markdown",
   "metadata": {},
   "source": [
    "We can now do some analysis on the data. For example, we can use a regular expression and the Series.str.extract method to pull out the numeric temperature values:"
   ]
  },
  {
   "cell_type": "code",
   "execution_count": 105,
   "metadata": {},
   "outputs": [
    {
     "data": {
      "text/plain": [
       "0    70\n",
       "1    40\n",
       "2    55\n",
       "3    42\n",
       "4    53\n",
       "5    42\n",
       "6    55\n",
       "7    46\n",
       "8    61\n",
       "Name: temp_num, dtype: object"
      ]
     },
     "execution_count": 105,
     "metadata": {},
     "output_type": "execute_result"
    }
   ],
   "source": [
    "temp_nums = weather[\"temps\"].str.extract(\"(?P<temp_num>\\d+)\", expand=False)\n",
    "weather[\"temp_num\"] = temp_nums.astype('int')\n",
    "temp_nums"
   ]
  },
  {
   "cell_type": "code",
   "execution_count": null,
   "metadata": {},
   "outputs": [],
   "source": [
    "weather"
   ]
  },
  {
   "cell_type": "markdown",
   "metadata": {},
   "source": [
    "We could then find the mean of all the high and low temperatures:"
   ]
  },
  {
   "cell_type": "code",
   "execution_count": 106,
   "metadata": {},
   "outputs": [
    {
     "data": {
      "text/plain": [
       "51.55555555555556"
      ]
     },
     "execution_count": 106,
     "metadata": {},
     "output_type": "execute_result"
    }
   ],
   "source": [
    "weather[\"temp_num\"].mean()\n"
   ]
  },
  {
   "cell_type": "markdown",
   "metadata": {},
   "source": [
    "We could also only select the rows that happen at night:\n",
    "\n"
   ]
  },
  {
   "cell_type": "code",
   "execution_count": null,
   "metadata": {},
   "outputs": [],
   "source": [
    "is_night = weather[\"temp\"].str.contains(\"Low\")\n",
    "weather[\"is_night\"] = is_night\n",
    "is_night"
   ]
  },
  {
   "cell_type": "code",
   "execution_count": null,
   "metadata": {},
   "outputs": [],
   "source": [
    "weather[is_night]\n"
   ]
  },
  {
   "cell_type": "code",
   "execution_count": null,
   "metadata": {},
   "outputs": [],
   "source": []
  }
 ],
 "metadata": {
  "kernelspec": {
   "display_name": "Python 3",
   "language": "python",
   "name": "python3"
  },
  "language_info": {
   "codemirror_mode": {
    "name": "ipython",
    "version": 3
   },
   "file_extension": ".py",
   "mimetype": "text/x-python",
   "name": "python",
   "nbconvert_exporter": "python",
   "pygments_lexer": "ipython3",
   "version": "3.7.3"
  }
 },
 "nbformat": 4,
 "nbformat_minor": 2
}
